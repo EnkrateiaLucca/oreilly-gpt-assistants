{
 "cells": [
  {
   "cell_type": "markdown",
   "id": "c6535c83",
   "metadata": {},
   "source": [
    "# Managing Threads and Messages in the OpenAI Assistants API\n",
    "\n",
    "## Introduction\n",
    "\n",
    "In this lesson, we'll explore how to effectively manage Threads and Messages in the OpenAI Assistants API. Threads and Messages are fundamental concepts that represent conversation sessions between an Assistant and a user. We'll cover creating threads, managing messages, handling attachments, and understanding context window management.\n",
    "\n",
    "\n",
    "First, let's set up our environment:"
   ]
  },
  {
   "cell_type": "code",
   "execution_count": null,
   "id": "ee730509",
   "metadata": {},
   "outputs": [],
   "source": [
    "import os\n",
    "import getpass\n",
    "\n",
    "def _set_env(var: str):\n",
    "    if not os.environ.get(var):\n",
    "        os.environ[var] = getpass.getpass(f\"var: \")\n",
    "\n",
    "_set_env(\"OPENAI_API_KEY\")"
   ]
  },
  {
   "cell_type": "code",
   "execution_count": null,
   "id": "62f7bf23",
   "metadata": {},
   "outputs": [],
   "source": [
    "from openai import OpenAI\n",
    "import time\n",
    "\n",
    "# Initialize the OpenAI client\n",
    "client = OpenAI()"
   ]
  },
  {
   "cell_type": "markdown",
   "id": "b93dfcbc",
   "metadata": {},
   "source": [
    "## Understanding Threads and Messages\n",
    "\n",
    "Threads represent conversation sessions and can contain up to 100,000 Messages. When the size of Messages exceeds the model's context window, the Thread automatically handles truncation, prioritizing the most relevant messages.\n",
    "\n",
    "### Creating a Basic Thread\n",
    "\n",
    "Let's start by creating a simple thread:"
   ]
  },
  {
   "cell_type": "code",
   "execution_count": null,
   "id": "927e8aab",
   "metadata": {},
   "outputs": [],
   "source": [
    "def create_basic_thread():\n",
    "    thread = client.beta.threads.create()\n",
    "    print(f\"Created thread with ID: {thread.id}\")\n",
    "    return thread\n",
    "\n",
    "# Create a new thread\n",
    "thread = create_basic_thread()"
   ]
  },
  {
   "cell_type": "markdown",
   "id": "3cfc923d",
   "metadata": {},
   "source": [
    "### Creating a Thread with Initial Messages\n",
    "\n",
    "You can create a thread with initial messages:"
   ]
  },
  {
   "cell_type": "code",
   "execution_count": null,
   "id": "70016ceb",
   "metadata": {},
   "outputs": [],
   "source": [
    "def create_thread_with_messages():\n",
    "    thread = client.beta.threads.create(\n",
    "        messages=[\n",
    "            {\n",
    "                \"role\": \"user\",\n",
    "                \"content\": \"I need help analyzing this dataset.\",\n",
    "            }\n",
    "        ]\n",
    "    )\n",
    "    return thread"
   ]
  },
  {
   "cell_type": "markdown",
   "id": "1b5957b9",
   "metadata": {},
   "source": [
    "## Working with Message Content Types\n",
    "\n",
    "Messages can contain different types of content, including text, images, and file attachments. Let's explore each type:\n",
    "\n",
    "### Text Messages"
   ]
  },
  {
   "cell_type": "code",
   "execution_count": null,
   "id": "ec113ad9",
   "metadata": {},
   "outputs": [],
   "source": [
    "def add_text_message(thread_id, content):\n",
    "    message = client.beta.threads.messages.create(\n",
    "        thread_id=thread_id,\n",
    "        role=\"user\",\n",
    "        content=content\n",
    "    )\n",
    "    return message\n",
    "\n",
    "# Example usage\n",
    "message = add_text_message(thread.id, \"Can you help me understand this data?\")"
   ]
  },
  {
   "cell_type": "markdown",
   "id": "c5d4d253",
   "metadata": {},
   "source": [
    "### Messages with File Attachments"
   ]
  },
  {
   "cell_type": "code",
   "execution_count": null,
   "id": "fd5f175e",
   "metadata": {},
   "outputs": [],
   "source": [
    "def create_message_with_attachment(thread_id, file_path):\n",
    "    # First, upload the file\n",
    "    file = client.files.create(\n",
    "        file=open(file_path, \"rb\"),\n",
    "        purpose=\"assistants\"\n",
    "    )\n",
    "    \n",
    "    # Create message with attachment\n",
    "    message = client.beta.threads.messages.create(\n",
    "        thread_id=thread_id,\n",
    "        role=\"user\",\n",
    "        content=\"Please analyze this file.\",\n",
    "        attachments=[\n",
    "            {\n",
    "                \"file_id\": file.id,\n",
    "                \"tools\": [{\"type\": \"code_interpreter\"}]\n",
    "            }\n",
    "        ]\n",
    "    )\n",
    "    return message"
   ]
  },
  {
   "cell_type": "markdown",
   "id": "2801625d",
   "metadata": {},
   "source": [
    "### Messages with Images"
   ]
  },
  {
   "cell_type": "code",
   "execution_count": null,
   "id": "e1ba0af5",
   "metadata": {},
   "outputs": [],
   "source": [
    "def create_message_with_image(thread_id, image_path):\n",
    "    # Upload image file\n",
    "    file = client.files.create(\n",
    "        file=open(image_path, \"rb\"),\n",
    "        purpose=\"vision\"\n",
    "    )\n",
    "    \n",
    "    # Create message with image\n",
    "    message = client.beta.threads.messages.create(\n",
    "        thread_id=thread_id,\n",
    "        role=\"user\",\n",
    "        content=[\n",
    "            {\n",
    "                \"type\": \"text\",\n",
    "                \"text\": \"What do you see in this image?\"\n",
    "            },\n",
    "            {\n",
    "                \"type\": \"image_file\",\n",
    "                \"image_file\": {\"file_id\": file.id}\n",
    "            }\n",
    "        ]\n",
    "    )\n",
    "    return message"
   ]
  },
  {
   "cell_type": "markdown",
   "id": "8d355c88",
   "metadata": {},
   "source": [
    "## Managing Context Windows\n",
    "\n",
    "The Assistants API provides ways to control how much context is used in conversations. Here's how to manage context windows:"
   ]
  },
  {
   "cell_type": "code",
   "execution_count": null,
   "id": "135e1a14",
   "metadata": {},
   "outputs": [],
   "source": [
    "def create_run_with_context_limits(thread_id, assistant_id):\n",
    "    run = client.beta.threads.runs.create(\n",
    "        thread_id=thread_id,\n",
    "        assistant_id=assistant_id,\n",
    "        # Limit the tokens used in the conversation\n",
    "        max_prompt_tokens=500,\n",
    "        max_completion_tokens=1000\n",
    "    )\n",
    "    return run"
   ]
  },
  {
   "cell_type": "markdown",
   "id": "0e9838d9",
   "metadata": {},
   "source": [
    "## Working with Message Annotations\n",
    "\n",
    "Assistant messages may contain annotations for file citations or file paths. Here's how to process them:"
   ]
  },
  {
   "cell_type": "code",
   "execution_count": null,
   "id": "1ec9b296",
   "metadata": {},
   "outputs": [],
   "source": [
    "def process_message_annotations(thread_id, message_id):\n",
    "    # Retrieve the message\n",
    "    message = client.beta.threads.messages.retrieve(\n",
    "        thread_id=thread_id,\n",
    "        message_id=message_id\n",
    "    )\n",
    "    \n",
    "    # Process the message content\n",
    "    if not message.content or not message.content[0].text:\n",
    "        return \"No text content found\"\n",
    "    \n",
    "    message_content = message.content[0].text\n",
    "    annotations = message_content.annotations\n",
    "    citations = []\n",
    "    \n",
    "    # Process annotations\n",
    "    for index, annotation in enumerate(annotations):\n",
    "        # Replace the text with a footnote\n",
    "        message_content.value = message_content.value.replace(\n",
    "            annotation.text, \n",
    "            f' [{index}]'\n",
    "        )\n",
    "        \n",
    "        # Handle different annotation types\n",
    "        if hasattr(annotation, 'file_citation'):\n",
    "            cited_file = client.files.retrieve(annotation.file_citation.file_id)\n",
    "            citations.append(\n",
    "                f'[{index}] {annotation.file_citation.quote} from {cited_file.filename}'\n",
    "            )\n",
    "        elif hasattr(annotation, 'file_path'):\n",
    "            cited_file = client.files.retrieve(annotation.file_path.file_id)\n",
    "            citations.append(\n",
    "                f'[{index}] File reference: {cited_file.filename}'\n",
    "            )\n",
    "    \n",
    "    # Combine message and citations\n",
    "    final_content = message_content.value\n",
    "    if citations:\n",
    "        final_content += '\\n\\nReferences:\\n' + '\\n'.join(citations)\n",
    "    \n",
    "    return final_content"
   ]
  },
  {
   "cell_type": "markdown",
   "id": "5027ac7f",
   "metadata": {},
   "source": [
    "## Best Practices\n",
    "\n",
    "1. **Thread Management:**\n",
    "   - Create new threads for distinct conversation sessions\n",
    "   - Don't exceed 100,000 messages per thread\n",
    "   - Clean up or archive old threads when they're no longer needed\n",
    "\n",
    "2. **Message Content:**\n",
    "   - Keep message content clear and focused\n",
    "   - Use appropriate content types (text, images, files) based on the use case\n",
    "   - Handle file attachments securely\n",
    "\n",
    "3. **Context Window:**\n",
    "   - Monitor token usage in long conversations\n",
    "   - Use max_prompt_tokens and max_completion_tokens when needed\n",
    "   - Consider using truncation strategies for long conversations\n",
    "\n",
    "## Exercise\n",
    "\n",
    "Try this exercise to practice working with threads and messages:"
   ]
  },
  {
   "cell_type": "code",
   "execution_count": null,
   "id": "3aba79db",
   "metadata": {},
   "outputs": [],
   "source": [
    "def practice_thread_management():\n",
    "    # 1. Create a new thread\n",
    "    thread = client.beta.threads.create()\n",
    "    \n",
    "    # 2. Add a text message\n",
    "    message1 = client.beta.threads.messages.create(\n",
    "        thread_id=thread.id,\n",
    "        role=\"user\",\n",
    "        content=\"Hello, I have some questions about data analysis.\"\n",
    "    )\n",
    "    \n",
    "    # 3. Add a second message\n",
    "    message2 = client.beta.threads.messages.create(\n",
    "        thread_id=thread.id,\n",
    "        role=\"user\",\n",
    "        content=\"Can you help me understand statistical significance?\"\n",
    "    )\n",
    "    \n",
    "    # 4. List all messages in the thread\n",
    "    messages = client.beta.threads.messages.list(thread_id=thread.id)\n",
    "    \n",
    "    # 5. Print the conversation\n",
    "    for message in messages:\n",
    "        print(f\"Role: {message.role}\")\n",
    "        print(f\"Content: {message.content[0].text.value}\\n\")\n",
    "    \n",
    "    return thread, messages\n",
    "\n",
    "# Run the exercise\n",
    "thread, messages = practice_thread_management()"
   ]
  },
  {
   "cell_type": "markdown",
   "id": "7b215940",
   "metadata": {},
   "source": [
    "## Conclusion\n",
    "\n",
    "Understanding how to effectively manage threads and messages is crucial for building robust applications with the OpenAI Assistants API. Remember to handle context windows appropriately, process message annotations when needed, and follow best practices for thread management.\n",
    "\n",
    "Try experimenting with different message types and content combinations to better understand how they work in your specific use case."
   ]
  }
 ],
 "metadata": {
  "language_info": {
   "name": "python"
  }
 },
 "nbformat": 4,
 "nbformat_minor": 5
}
