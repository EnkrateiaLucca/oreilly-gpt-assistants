{
 "cells": [
  {
   "cell_type": "code",
   "execution_count": 1,
   "metadata": {},
   "outputs": [
    {
     "data": {
      "text/plain": [
       "'EnkrateiaLucca'"
      ]
     },
     "execution_count": 1,
     "metadata": {},
     "output_type": "execute_result"
    }
   ],
   "source": [
    "from github import Auth, Github\n",
    "import os\n",
    "\n",
    "auth = Auth.Token(os.getenv(\"GITHUB_ACCESS_TOKEN\"))\n",
    "g = Github(auth=auth)\n",
    "g.get_user().login"
   ]
  },
  {
   "cell_type": "code",
   "execution_count": 2,
   "metadata": {},
   "outputs": [
    {
     "data": {
      "text/plain": [
       "[ContentFile(path=\".gitignore\"),\n",
       " ContentFile(path=\"Course-outline-gpt-assistants.md\"),\n",
       " ContentFile(path=\"README.md\"),\n",
       " ContentFile(path=\"test.txt\"),\n",
       " ContentFile(path=\"testing_github_assistant.md\")]"
      ]
     },
     "execution_count": 2,
     "metadata": {},
     "output_type": "execute_result"
    }
   ],
   "source": [
    "repo = g.get_repo(\"EnkrateiaLucca/test-repo\")\n",
    "repo.get_contents(\"\")"
   ]
  },
  {
   "cell_type": "code",
   "execution_count": 4,
   "metadata": {},
   "outputs": [
    {
     "data": {
      "text/plain": [
       "{'content': ContentFile(path=\"test2.txt\"),\n",
       " 'commit': Commit(sha=\"0879f20d692fa65142927415fa0b18b6f914bddf\")}"
      ]
     },
     "execution_count": 4,
     "metadata": {},
     "output_type": "execute_result"
    }
   ],
   "source": [
    "# Create a new file in the repository¶\n",
    "\n",
    "repo.create_file(\"test2.txt\", \"test\", \"test\", branch=\"main\")"
   ]
  },
  {
   "cell_type": "code",
   "execution_count": 5,
   "metadata": {},
   "outputs": [
    {
     "data": {
      "text/plain": [
       "{'commit': Commit(sha=\"66f43ee8749d40247c1b237f942b8ab86780b74c\"),\n",
       " 'content': ContentFile(path=\"test2.txt\")}"
      ]
     },
     "execution_count": 5,
     "metadata": {},
     "output_type": "execute_result"
    }
   ],
   "source": [
    "# Update a file in the repository¶\n",
    "\n",
    "contents = repo.get_contents(\"test2.txt\", ref=\"main\")\n",
    "\n",
    "repo.update_file(contents.path, \"more tests\", \"more tests\", contents.sha, branch=\"main\")"
   ]
  },
  {
   "cell_type": "code",
   "execution_count": 6,
   "metadata": {},
   "outputs": [
    {
     "data": {
      "text/plain": [
       "{'commit': Commit(sha=\"6489adcdbf9a43d7b62da69aa3a884d0738572de\"),\n",
       " 'content': NotSet}"
      ]
     },
     "execution_count": 6,
     "metadata": {},
     "output_type": "execute_result"
    }
   ],
   "source": [
    "# Delete a file in the repository\n",
    "\n",
    "contents = repo.get_contents(\"test2.txt\", ref=\"main\")\n",
    "\n",
    "repo.delete_file(contents.path, \"deleting test\", contents.sha, branch=\"main\")"
   ]
  },
  {
   "cell_type": "code",
   "execution_count": 7,
   "metadata": {},
   "outputs": [],
   "source": [
    "def create_file_tool(repo_name, file_name, commit_msg, file_content, branch=\"main\"):\n",
    "    \"\"\"\n",
    "    Create a file in the repository\n",
    "    \"\"\"\n",
    "    auth = Auth.Token(os.environ.get(\"GITHUB_ACCESS_TOKEN\"))\n",
    "    g = Github(auth=auth)\n",
    "    repo = g.get_repo(f\"EnkrateiaLucca/{repo_name}\")\n",
    "    repo.create_file(file_name, commit_msg, file_content, branch=branch)\n",
    "    return f\"File created successfully: {file_name}\"\n",
    "\n",
    "def update_file_tool(repo_name, file_name, commit_msg, file_content, branch=\"main\"):\n",
    "    \"\"\"\n",
    "    Update a file in the repository\n",
    "    \"\"\"\n",
    "    auth = Auth.Token(os.environ.get(\"GITHUB_ACCESS_TOKEN\"))\n",
    "    g = Github(auth=auth)\n",
    "    repo = g.get_repo(f\"EnkrateiaLucca/{repo_name}\")\n",
    "    contents = repo.get_contents(file_name, ref=branch)\n",
    "    repo.update_file(contents.path, commit_msg, file_content, contents.sha, branch=branch)\n",
    "    return f\"File updated successfully: {file_name}\""
   ]
  },
  {
   "cell_type": "code",
   "execution_count": 51,
   "metadata": {},
   "outputs": [
    {
     "data": {
      "text/plain": [
       "'File created successfully: test.txt'"
      ]
     },
     "execution_count": 51,
     "metadata": {},
     "output_type": "execute_result"
    }
   ],
   "source": [
    "create_file_tool(\"test-repo\", \"test.txt\", \"test\", \"test\", branch=\"main\")"
   ]
  },
  {
   "cell_type": "code",
   "execution_count": 54,
   "metadata": {},
   "outputs": [
    {
     "data": {
      "text/plain": [
       "'File updated successfully: test.txt'"
      ]
     },
     "execution_count": 54,
     "metadata": {},
     "output_type": "execute_result"
    }
   ],
   "source": [
    "update_file_tool(\"test-repo\", \"test.txt\", \"testing pancakes\", \"again pancakes\", branch=\"main\")"
   ]
  },
  {
   "cell_type": "code",
   "execution_count": 8,
   "metadata": {},
   "outputs": [
    {
     "data": {
      "text/plain": [
       "'asst_hQuthsXL7pc0fRJ1eHZ0q8Sj'"
      ]
     },
     "execution_count": 8,
     "metadata": {},
     "output_type": "execute_result"
    }
   ],
   "source": [
    "from openai import OpenAI\n",
    "\n",
    "client = OpenAI()\n",
    "\n",
    "my_assistant = client.beta.assistants.create(\n",
    "    instructions=\"You are a GitHub assistant. You help users with github related tasks like commits, pull requests, and issues.\",\n",
    "    model=\"gpt-4o\",\n",
    "    name=\"GitHub Assistant\",\n",
    "    tools=[{\"type\": \"file_search\"}, \n",
    "            {\"type\": \"code_interpreter\"}, \n",
    "            {\"type\": \"function\",\n",
    "             \"function\": {\n",
    "                 \"name\": \"create_file_tool\",\n",
    "                 \"description\": \"Create a file in the repository\",\n",
    "                 \"parameters\": {\n",
    "                     \"type\": \"object\",\n",
    "                     \"properties\": {\n",
    "                         \"repo_name\": {\"type\": \"string\", \"description\": \"The name of the repository to create the file in\"},\n",
    "                         \"file_name\": {\"type\": \"string\", \"description\": \"The name of the file to create\"},\n",
    "                         \"commit_msg\": {\"type\": \"string\", \"description\": \"The commit message for the file\"},\n",
    "                         \"file_content\": {\"type\": \"string\", \"description\": \"The content of the file to create\"},\n",
    "                         \"branch\": {\"type\": \"string\", \"description\": \"The branch to create the file on\", \"default\": \"main\"}\n",
    "                     },\n",
    "                     \"required\": [\"repo_name\", \"file_name\", \"commit_msg\", \"file_content\"]\n",
    "                 }\n",
    "             }\n",
    "             },\n",
    "             {\n",
    "                 \"type\": \"function\",\n",
    "                 \"function\": {\n",
    "                     \"name\": \"update_file_tool\",\n",
    "                     \"description\": \"Update a file in the repository\",\n",
    "                     \"parameters\": {\n",
    "                         \"type\": \"object\",\n",
    "                         \"properties\": {\n",
    "                             \"repo_name\": {\"type\": \"string\", \"description\": \"The name of the repository to update\"},\n",
    "                             \"file_name\": {\"type\": \"string\", \"description\": \"The name of the file to update\"},\n",
    "                             \"commit_msg\": {\"type\": \"string\", \"description\": \"The commit message for the file\"},\n",
    "                             \"file_content\": {\"type\": \"string\", \"description\": \"The content of the file to update\"},\n",
    "                             \"branch\": {\"type\": \"string\", \"description\": \"The branch to update the file on\", \"default\": \"main\"}\n",
    "                         },\n",
    "                         \"required\": [\"repo_name\", \"file_name\", \"commit_msg\", \"file_content\"]\n",
    "                     }\n",
    "                 }\n",
    "             }\n",
    "         ]\n",
    ")\n",
    "\n",
    "my_assistant.id"
   ]
  },
  {
   "cell_type": "code",
   "execution_count": 12,
   "metadata": {},
   "outputs": [
    {
     "data": {
      "text/plain": [
       "\"Create a new file called text.txt with the content 'Testing Github Assistant' on the main branch of test-repo?\""
      ]
     },
     "execution_count": 12,
     "metadata": {},
     "output_type": "execute_result"
    }
   ],
   "source": [
    "thread = client.beta.threads.create()\n",
    "\n",
    "message = client.beta.threads.messages.create(\n",
    "    thread_id=thread.id,\n",
    "    role=\"user\",\n",
    "    content=\"Create a new file called text.txt with the content 'Testing Github Assistant' on the main branch of test-repo?\"\n",
    ")\n",
    "\n",
    "message.content[0].text.value"
   ]
  },
  {
   "cell_type": "code",
   "execution_count": 13,
   "metadata": {},
   "outputs": [],
   "source": [
    "tool_map = {\n",
    "    \"create_file_tool\": lambda args: create_file_tool(**args),\n",
    "    \"update_file_tool\": lambda args: update_file_tool(**args)\n",
    "}"
   ]
  },
  {
   "cell_type": "code",
   "execution_count": 14,
   "metadata": {},
   "outputs": [
    {
     "name": "stdout",
     "output_type": "stream",
     "text": [
      "SyncCursorPage[Message](data=[Message(id='msg_UDr8BvD83kDrH4yyWinRjYX8', assistant_id='asst_hQuthsXL7pc0fRJ1eHZ0q8Sj', attachments=[], completed_at=None, content=[TextContentBlock(text=Text(annotations=[], value=\"The file `text.txt` has been successfully created in the `test-repo` repository on the main branch with the content 'Testing Github Assistant'.\"), type='text')], created_at=1736794374, incomplete_at=None, incomplete_details=None, metadata={}, object='thread.message', role='assistant', run_id='run_IVr13CG2xlTbDzQIDSewMFLE', status=None, thread_id='thread_ZKeiukgZV6xGOQQPYuNPkLVo'), Message(id='msg_gMJfPjuKtsqsqJrqGXZRGR0V', assistant_id=None, attachments=[], completed_at=None, content=[TextContentBlock(text=Text(annotations=[], value=\"Create a new file called text.txt with the content 'Testing Github Assistant' on the main branch of test-repo?\"), type='text')], created_at=1736794362, incomplete_at=None, incomplete_details=None, metadata={}, object='thread.message', role='user', run_id=None, status=None, thread_id='thread_ZKeiukgZV6xGOQQPYuNPkLVo')], object='list', first_id='msg_UDr8BvD83kDrH4yyWinRjYX8', last_id='msg_gMJfPjuKtsqsqJrqGXZRGR0V', has_more=False)\n"
     ]
    }
   ],
   "source": [
    "import json\n",
    "\n",
    "def run_assistant_with_tools(client, thread_id, assistant_id, tool_map=None):\n",
    "    \"\"\"\n",
    "    Run an assistant with tool handling capabilities.\n",
    "    \n",
    "    Args:\n",
    "        client: OpenAI client instance\n",
    "        thread_id: ID of the thread to run\n",
    "        assistant_id: ID of the assistant to use\n",
    "        tool_map: Dictionary mapping tool names to their handler functions\n",
    "    \n",
    "    Returns:\n",
    "        The messages from the completed run, or None if unsuccessful\n",
    "    \"\"\"\n",
    "    \n",
    "    if tool_map is None:\n",
    "        tool_map = {}\n",
    "        \n",
    "    run = client.beta.threads.runs.create_and_poll(\n",
    "        thread_id=thread_id,\n",
    "        assistant_id=assistant_id,\n",
    "    )\n",
    "\n",
    "    if run.status == 'completed':\n",
    "        messages = client.beta.threads.messages.list(\n",
    "            thread_id=thread_id\n",
    "        )\n",
    "        return messages\n",
    "        \n",
    "    elif run.status == 'requires_action':\n",
    "        tool_outputs = []\n",
    "\n",
    "        for tool in run.required_action.submit_tool_outputs.tool_calls:\n",
    "            if tool.function.name in tool_map:\n",
    "                tool_outputs.append({\n",
    "                    \"tool_call_id\": tool.id,\n",
    "                    \"output\": tool_map[tool.function.name](json.loads(tool.function.arguments))\n",
    "                })\n",
    "\n",
    "        if tool_outputs:\n",
    "            try:\n",
    "                run = client.beta.threads.runs.submit_tool_outputs_and_poll(\n",
    "                    thread_id=thread_id,\n",
    "                    run_id=run.id,\n",
    "                    tool_outputs=tool_outputs\n",
    "                )\n",
    "                \n",
    "                if run.status == 'completed':\n",
    "                    messages = client.beta.threads.messages.list(\n",
    "                        thread_id=thread_id\n",
    "                    )\n",
    "                    return messages\n",
    "                else:\n",
    "                    return None\n",
    "                    \n",
    "            except Exception as e:\n",
    "                print(f\"Failed to submit tool outputs: {e}\")\n",
    "                return None\n",
    "                \n",
    "        return None\n",
    "        \n",
    "    return None\n",
    "\n",
    "# Example usage:    \n",
    "\n",
    "messages = run_assistant_with_tools(client, thread.id, my_assistant.id, tool_map)\n",
    "if messages:\n",
    "    print(messages)"
   ]
  },
  {
   "cell_type": "code",
   "execution_count": 16,
   "metadata": {},
   "outputs": [
    {
     "data": {
      "text/plain": [
       "\"The file `text.txt` has been successfully created in the `test-repo` repository on the main branch with the content 'Testing Github Assistant'.\""
      ]
     },
     "execution_count": 16,
     "metadata": {},
     "output_type": "execute_result"
    }
   ],
   "source": [
    "messages.data[0].content[0].text.value"
   ]
  },
  {
   "cell_type": "code",
   "execution_count": null,
   "metadata": {},
   "outputs": [],
   "source": []
  },
  {
   "cell_type": "code",
   "execution_count": null,
   "metadata": {},
   "outputs": [],
   "source": []
  }
 ],
 "metadata": {
  "kernelspec": {
   "display_name": "gpt-assistants",
   "language": "python",
   "name": "gpt-assistants"
  },
  "language_info": {
   "codemirror_mode": {
    "name": "ipython",
    "version": 3
   },
   "file_extension": ".py",
   "mimetype": "text/x-python",
   "name": "python",
   "nbconvert_exporter": "python",
   "pygments_lexer": "ipython3",
   "version": "3.11.11"
  }
 },
 "nbformat": 4,
 "nbformat_minor": 2
}
