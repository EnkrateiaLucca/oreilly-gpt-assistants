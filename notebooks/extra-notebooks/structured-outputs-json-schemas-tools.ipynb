{
 "cells": [
  {
   "cell_type": "code",
   "execution_count": 4,
   "metadata": {},
   "outputs": [
    {
     "data": {
      "text/plain": [
       "{'properties': {'attribute1': {'description': 'Some attribute',\n",
       "   'title': 'Attribute1',\n",
       "   'type': 'string'},\n",
       "  'attribute2': {'description': 'Another attribute',\n",
       "   'title': 'Attribute2',\n",
       "   'type': 'string'}},\n",
       " 'required': ['attribute1', 'attribute2'],\n",
       " 'title': 'ExampleToolStructured',\n",
       " 'type': 'object'}"
      ]
     },
     "execution_count": 4,
     "metadata": {},
     "output_type": "execute_result"
    }
   ],
   "source": [
    "from pydantic import BaseModel, Field\n",
    "\n",
    "class ExampleToolStructured(BaseModel):\n",
    "    attribute1: str = Field(description=\"Some attribute\")\n",
    "    attribute2: str = Field(description=\"Another attribute\")\n",
    "    \n",
    "file_search_tool = ExampleToolStructured(attribute1=\"test.txt\", attribute2=\"test\")\n",
    "\n",
    "file_search_tool.model_json_schema()"
   ]
  },
  {
   "cell_type": "code",
   "execution_count": null,
   "metadata": {},
   "outputs": [],
   "source": []
  },
  {
   "cell_type": "code",
   "execution_count": null,
   "metadata": {},
   "outputs": [],
   "source": []
  },
  {
   "cell_type": "code",
   "execution_count": null,
   "metadata": {},
   "outputs": [],
   "source": []
  }
 ],
 "metadata": {
  "kernelspec": {
   "display_name": "gpt-assistants",
   "language": "python",
   "name": "gpt-assistants"
  },
  "language_info": {
   "codemirror_mode": {
    "name": "ipython",
    "version": 3
   },
   "file_extension": ".py",
   "mimetype": "text/x-python",
   "name": "python",
   "nbconvert_exporter": "python",
   "pygments_lexer": "ipython3",
   "version": "3.11.11"
  }
 },
 "nbformat": 4,
 "nbformat_minor": 2
}
