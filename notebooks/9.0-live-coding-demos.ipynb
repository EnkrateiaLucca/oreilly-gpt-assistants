{
 "cells": [
  {
   "cell_type": "code",
   "execution_count": 1,
   "metadata": {},
   "outputs": [],
   "source": [
    "import os\n",
    "import getpass\n",
    "\n",
    "def _set_env(var: str):\n",
    "    if not os.environ.get(var):\n",
    "        os.environ[var] = getpass.getpass(f\"var: \")\n",
    "\n",
    "_set_env(\"OPENAI_API_KEY\")"
   ]
  },
  {
   "cell_type": "code",
   "execution_count": 2,
   "metadata": {},
   "outputs": [],
   "source": [
    "from openai import OpenAI\n",
    "import time\n",
    "\n",
    "# Initialize the OpenAI client\n",
    "client = OpenAI()"
   ]
  },
  {
   "cell_type": "markdown",
   "metadata": {},
   "source": [
    "# Setup a Simple PDF Search Summary Agent\n",
    "\n",
    "1. Ingest files (pdfs)\n",
    "2. Add functionalities: \n",
    "   1. File search over the pdfs\n",
    "   2. Ability to write and save files as .md so we can read them locally\n",
    "3. Test it across some examples "
   ]
  },
  {
   "cell_type": "markdown",
   "metadata": {},
   "source": [
    "## 1. Ingest files"
   ]
  },
  {
   "cell_type": "code",
   "execution_count": 4,
   "metadata": {},
   "outputs": [],
   "source": [
    "def create_vector_store():\n",
    "    vector_store = client.beta.vector_stores.create(\n",
    "        name=\"PDFs\",\n",
    "    )\n",
    "    return vector_store\n",
    "\n",
    "vector_store = create_vector_store()\n",
    "\n",
    "vector_store_id = vector_store.id"
   ]
  },
  {
   "cell_type": "code",
   "execution_count": 5,
   "metadata": {},
   "outputs": [
    {
     "name": "stdout",
     "output_type": "stream",
     "text": [
      "--2025-01-13 17:27:23--  https://arxiv.org/pdf/1706.03762\n",
      "Resolving arxiv.org (arxiv.org)... 151.101.131.42, 151.101.195.42, 151.101.67.42, ...\n",
      "Connecting to arxiv.org (arxiv.org)|151.101.131.42|:443... connected.\n",
      "HTTP request sent, awaiting response... 200 OK\n",
      "Length: 2215244 (2.1M) [application/pdf]\n",
      "Saving to: ‘paper.pdf’\n",
      "\n",
      "paper.pdf           100%[===================>]   2.11M  --.-KB/s    in 0.03s   \n",
      "\n",
      "2025-01-13 17:27:24 (73.2 MB/s) - ‘paper.pdf’ saved [2215244/2215244]\n",
      "\n"
     ]
    }
   ],
   "source": [
    "!wget -O \"paper.pdf\" \"https://arxiv.org/pdf/1706.03762\""
   ]
  },
  {
   "cell_type": "code",
   "execution_count": 6,
   "metadata": {},
   "outputs": [
    {
     "name": "stdout",
     "output_type": "stream",
     "text": [
      "--2025-01-13 17:28:02--  https://arxiv.org/pdf/2308.11432\n",
      "Resolving arxiv.org (arxiv.org)... 151.101.131.42, 151.101.195.42, 151.101.67.42, ...\n",
      "Connecting to arxiv.org (arxiv.org)|151.101.131.42|:443... connected.\n",
      "HTTP request sent, awaiting response... 200 OK\n",
      "Length: 5789022 (5.5M) [application/pdf]\n",
      "Saving to: ‘ai-agents-paper.pdf’\n",
      "\n",
      "ai-agents-paper.pdf 100%[===================>]   5.52M  --.-KB/s    in 0.06s   \n",
      "\n",
      "2025-01-13 17:28:02 (96.4 MB/s) - ‘ai-agents-paper.pdf’ saved [5789022/5789022]\n",
      "\n"
     ]
    }
   ],
   "source": [
    "!wget -O \"ai-agents-paper.pdf\" \"https://arxiv.org/pdf/2308.11432\""
   ]
  },
  {
   "cell_type": "code",
   "execution_count": 7,
   "metadata": {},
   "outputs": [],
   "source": [
    "!mkdir -p \"pdfs\"\n",
    "!mv \"paper.pdf\" \"pdfs/paper.pdf\"\n",
    "!mv \"ai-agents-paper.pdf\" \"pdfs/ai-agents-paper.pdf\""
   ]
  },
  {
   "cell_type": "code",
   "execution_count": 8,
   "metadata": {},
   "outputs": [
    {
     "data": {
      "text/plain": [
       "['pdfs/ai-agents-paper.pdf', 'pdfs/paper.pdf']"
      ]
     },
     "execution_count": 8,
     "metadata": {},
     "output_type": "execute_result"
    }
   ],
   "source": [
    "import glob\n",
    "file_paths = glob.glob(\"pdfs/*.pdf\")\n",
    "\n",
    "file_paths\n"
   ]
  },
  {
   "cell_type": "code",
   "execution_count": 9,
   "metadata": {},
   "outputs": [
    {
     "name": "stdout",
     "output_type": "stream",
     "text": [
      "Upload status: completed\n",
      "File counts: FileCounts(cancelled=0, completed=2, failed=0, in_progress=0, total=2)\n"
     ]
    },
    {
     "data": {
      "text/plain": [
       "VectorStoreFileBatch(id='vsfb_1d02d274bd4d4e1f8baceaf768adabd2', created_at=1736789336, file_counts=FileCounts(cancelled=0, completed=2, failed=0, in_progress=0, total=2), object='vector_store.file_batch', status='completed', vector_store_id='vs_2wyyYIKMHrZMYZnlGtJC21Gm')"
      ]
     },
     "execution_count": 9,
     "metadata": {},
     "output_type": "execute_result"
    }
   ],
   "source": [
    "def add_files_to_vector_store(file_paths, vector_store_id):\n",
    "\n",
    "    \"\"\"\n",
    "    Upload files to the vector store and wait for processing to complete\n",
    "    \"\"\"\n",
    "    # Prepare the files for upload\n",
    "    file_streams = [open(path, \"rb\") for path in file_paths]\n",
    "    \n",
    "    try:\n",
    "        # Upload files and wait for processing\n",
    "        file_batch = client.beta.vector_stores.file_batches.upload_and_poll(\n",
    "            vector_store_id=vector_store_id,\n",
    "            files=file_streams\n",
    "        )\n",
    "        \n",
    "        print(f\"Upload status: {file_batch.status}\")\n",
    "        print(f\"File counts: {file_batch.file_counts}\")\n",
    "        return file_batch\n",
    "        \n",
    "    finally:\n",
    "        # Clean up file streams\n",
    "        for stream in file_streams:\n",
    "            stream.close()\n",
    "\n",
    "add_files_to_vector_store(file_paths, vector_store_id)"
   ]
  },
  {
   "cell_type": "code",
   "execution_count": 12,
   "metadata": {},
   "outputs": [
    {
     "data": {
      "text/plain": [
       "'asst_yDk3m3FqUuj799coN6CPdj8F'"
      ]
     },
     "execution_count": 12,
     "metadata": {},
     "output_type": "execute_result"
    }
   ],
   "source": [
    "assistant = client.beta.assistants.create(\n",
    "    name=\"PDF Search Assistant\",\n",
    "    instructions=\"You are a helpful assistant that can search and summarize the available PDFs and answer questions about them.\",\n",
    "    tools=[{\"type\": \"file_search\"},\n",
    "           {\"type\": \"code_interpreter\"}],\n",
    "    model=\"gpt-4o\"\n",
    ")\n",
    "\n",
    "assistant.id"
   ]
  },
  {
   "cell_type": "code",
   "execution_count": 13,
   "metadata": {},
   "outputs": [],
   "source": [
    "# Create vector store\n",
    "vector_store = create_vector_store()\n",
    "\n",
    "# Update assistant with vector store\n",
    "assistant = client.beta.assistants.update(\n",
    "    assistant_id=assistant.id,\n",
    "    tools=[{\"type\": \"file_search\"},\n",
    "           {\"type\": \"code_interpreter\"}],\n",
    "    tool_resources={\n",
    "        \"file_search\": {\n",
    "            \"vector_store_ids\": [vector_store.id]\n",
    "        },\n",
    "    }\n",
    ")"
   ]
  },
  {
   "cell_type": "code",
   "execution_count": 26,
   "metadata": {},
   "outputs": [
    {
     "data": {
      "text/plain": [
       "Message(id='msg_Y5c9XYflrV6Dz1G0PVbNDEvf', assistant_id=None, attachments=[], completed_at=None, content=[TextContentBlock(text=Text(annotations=[], value='Summarize the documents available.'), type='text')], created_at=1736790359, incomplete_at=None, incomplete_details=None, metadata={}, object='thread.message', role='user', run_id=None, status=None, thread_id='thread_AFp803nslOt4FENRD1bgFWYA')"
      ]
     },
     "execution_count": 26,
     "metadata": {},
     "output_type": "execute_result"
    }
   ],
   "source": [
    "thread = client.beta.threads.create()\n",
    "\n",
    "messages = client.beta.threads.messages.create(\n",
    "    thread_id=thread.id,\n",
    "    role=\"user\",\n",
    "    content=\"Summarize the documents available.\"\n",
    ")\n",
    "\n",
    "messages"
   ]
  },
  {
   "cell_type": "code",
   "execution_count": 27,
   "metadata": {},
   "outputs": [
    {
     "name": "stdout",
     "output_type": "stream",
     "text": [
      "Run(id='run_GbdFeQcpnWb2LSoHDyIskQwB', assistant_id='asst_yDk3m3FqUuj799coN6CPdj8F', cancelled_at=None, completed_at=1736790365, created_at=1736790361, expires_at=None, failed_at=None, incomplete_details=None, instructions='You are a helpful assistant that can search and summarize the available PDFs and answer questions about them.', last_error=None, max_completion_tokens=None, max_prompt_tokens=None, metadata={}, model='gpt-4o', object='thread.run', parallel_tool_calls=True, required_action=None, response_format='auto', started_at=1736790363, status='completed', thread_id='thread_AFp803nslOt4FENRD1bgFWYA', tool_choice='auto', tools=[FileSearchTool(type='file_search', file_search=FileSearch(max_num_results=None, ranking_options=FileSearchRankingOptions(score_threshold=0.0, ranker='default_2024_08_21'))), CodeInterpreterTool(type='code_interpreter')], truncation_strategy=TruncationStrategy(type='auto', last_messages=None), usage=Usage(completion_tokens=68, prompt_tokens=1911, total_tokens=1979, prompt_token_details={'cached_tokens': 0}), temperature=1.0, top_p=1.0, tool_resources={})\n",
      "SyncCursorPage[Message](data=[Message(id='msg_0PSsUBCRjlrhVgIYjNIWqLqx', assistant_id='asst_yDk3m3FqUuj799coN6CPdj8F', attachments=[], completed_at=None, content=[TextContentBlock(text=Text(annotations=[], value=\"It seems I wasn't able to retrieve a summary of your documents automatically. Please let me know if there's a specific part you'd like summarized or if you can provide some context about the content. I can then search through the documents more effectively to provide a detailed summary.\"), type='text')], created_at=1736790364, incomplete_at=None, incomplete_details=None, metadata={}, object='thread.message', role='assistant', run_id='run_GbdFeQcpnWb2LSoHDyIskQwB', status=None, thread_id='thread_AFp803nslOt4FENRD1bgFWYA'), Message(id='msg_Y5c9XYflrV6Dz1G0PVbNDEvf', assistant_id=None, attachments=[], completed_at=None, content=[TextContentBlock(text=Text(annotations=[], value='Summarize the documents available.'), type='text')], created_at=1736790359, incomplete_at=None, incomplete_details=None, metadata={}, object='thread.message', role='user', run_id=None, status=None, thread_id='thread_AFp803nslOt4FENRD1bgFWYA')], object='list', first_id='msg_0PSsUBCRjlrhVgIYjNIWqLqx', last_id='msg_Y5c9XYflrV6Dz1G0PVbNDEvf', has_more=False)\n"
     ]
    }
   ],
   "source": [
    "run = client.beta.threads.runs.create_and_poll(\n",
    "    thread_id=thread.id,\n",
    "    assistant_id=assistant.id,\n",
    ")\n",
    "\n",
    "print(run)\n",
    "\n",
    "if run.status == 'completed': \n",
    "    messages = client.beta.threads.messages.list(\n",
    "    thread_id=thread.id\n",
    "    )\n",
    "    print(messages)\n",
    "else:\n",
    "    print(run.status)"
   ]
  },
  {
   "cell_type": "code",
   "execution_count": 28,
   "metadata": {},
   "outputs": [
    {
     "data": {
      "text/plain": [
       "\"It seems I wasn't able to retrieve a summary of your documents automatically. Please let me know if there's a specific part you'd like summarized or if you can provide some context about the content. I can then search through the documents more effectively to provide a detailed summary.\""
      ]
     },
     "execution_count": 28,
     "metadata": {},
     "output_type": "execute_result"
    }
   ],
   "source": [
    "messages.data[0].content[0].text.value"
   ]
  },
  {
   "cell_type": "code",
   "execution_count": null,
   "metadata": {},
   "outputs": [],
   "source": []
  }
 ],
 "metadata": {
  "kernelspec": {
   "display_name": "gpt-assistants",
   "language": "python",
   "name": "gpt-assistants"
  },
  "language_info": {
   "codemirror_mode": {
    "name": "ipython",
    "version": 3
   },
   "file_extension": ".py",
   "mimetype": "text/x-python",
   "name": "python",
   "nbconvert_exporter": "python",
   "pygments_lexer": "ipython3",
   "version": "3.11.11"
  }
 },
 "nbformat": 4,
 "nbformat_minor": 2
}
