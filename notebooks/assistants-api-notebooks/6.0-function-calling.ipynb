{
 "cells": [
  {
   "cell_type": "markdown",
   "id": "e150fa7c",
   "metadata": {},
   "source": [
    "# Tools - Function Calling \n",
    "\n",
    "The **Function Calling Tool** in the OpenAI Assistants API allows you to describe custom functions to the model and have it intelligently determine when and how to call them based on user queries. This enables the creation of assistants that can interact with external systems, fetch data, and perform complex tasks, making them more dynamic and useful.\n",
    "\n",
    "By the end of this lesson, you will:\n",
    "\n",
    "1.  Understand the core concepts of function calling.\n",
    "2.  Learn how to define and register functions with the Assistants API.\n",
    "3.  Implement two real-world examples:\n",
    "    *   A **Cooking Assistant** that suggests recipes and provides nutritional information.\n",
    "    *   A **Package Tracking Assistant** that retrieves package status and delivery dates.\n",
    "4.  Gain insights into handling function calls and managing the assistant's lifecycle.\n",
    "\n",
    "## Core Concepts of Function Calling\n",
    "\n",
    "To effectively use the Function Calling Tool, you need to grasp these key concepts:\n",
    "\n",
    "1.  **Function Definition**:\n",
    "    *   Each function must be clearly defined with a name, description, and parameters.\n",
    "    *   The parameters are described using a JSON schema, specifying their types, descriptions, and whether they are required.\n",
    "2.  **Registering Functions**:\n",
    "    *   Functions are registered with the assistant during its creation using the `tools` parameter.\n",
    "    *   Each function is defined as a tool of type `function`.\n",
    "3.  **Run Lifecycle**:\n",
    "    *   An assistant's interaction with a user is managed through a `run` object.\n",
    "    *   Runs go through different states: `queued`, `in_progress`, `requires_action`, `completed`, `cancelled`, `failed`, `expired`.\n",
    "    *   When a run enters the `requires_action` state, it means the assistant has determined that one or more functions need to be called.\n",
    "4.  **Handling Function Calls**:\n",
    "    *   Your application needs to monitor the run's state.\n",
    "    *   When a function call is required, the assistant provides the function name and arguments.\n",
    "    *   You execute the function (or a mock/simulation in our examples) and submit the results back to the assistant.\n",
    "5.  **Submitting Tool Outputs**:\n",
    "    *   All tool outputs for a given `requires_action` state must be submitted together.\n",
    "    *   The `submit_tool_outputs` method is used to send the results back to the assistant.\n",
    "6.  **Expiration**:\n",
    "    *   Function calls have a 10-minute expiration window. If outputs are not submitted within this time, the run will expire.\n",
    "7.  **Streaming**:\n",
    "    *   The API supports streaming responses, allowing for real-time interactions."
   ]
  },
  {
   "cell_type": "code",
   "execution_count": null,
   "id": "95f79408",
   "metadata": {},
   "outputs": [],
   "source": [
    "import os\n",
    "import getpass\n",
    "\n",
    "def _set_env(var: str):\n",
    "    if not os.environ.get(var):\n",
    "        os.environ[var] = getpass.getpass(f\"var: \")\n",
    "\n",
    "_set_env(\"OPENAI_API_KEY\")"
   ]
  },
  {
   "cell_type": "code",
   "execution_count": null,
   "id": "85e02408",
   "metadata": {},
   "outputs": [],
   "source": [
    "from openai import OpenAI\n",
    "import time\n",
    "\n",
    "# Initialize the OpenAI client\n",
    "client = OpenAI()"
   ]
  },
  {
   "cell_type": "markdown",
   "id": "85c605cb",
   "metadata": {},
   "source": [
    "## Example 1: Building a Smart Cooking Assistant\n",
    "\n",
    "Let's start by building a cooking assistant that can suggest recipes based on available ingredients and provide nutritional information.\n",
    "\n",
    "### Step 1: Define the Functions\n",
    "\n",
    "We'll define two functions:\n",
    "\n",
    "*   `get_recipe_suggestion`: Suggests recipes based on ingredients and optional cuisine preference.\n",
    "*   `get_nutritional_info`: Provides nutritional information for a given recipe."
   ]
  },
  {
   "cell_type": "code",
   "execution_count": null,
   "id": "9e89324e",
   "metadata": {},
   "outputs": [],
   "source": [
    "assistant = client.beta.assistants.create(\n",
    "    name=\"Cooking Assistant\",\n",
    "    instructions=\"You are a helpful cooking assistant. Use the provided functions to suggest recipes and provide nutritional information.\",\n",
    "    model=\"gpt-4o\",\n",
    "    tools=[\n",
    "        {\n",
    "            \"type\": \"function\",\n",
    "            \"function\": {\n",
    "                \"name\": \"get_recipe_suggestion\",\n",
    "                \"description\": \"Get recipe suggestions based on available ingredients\",\n",
    "                \"parameters\": {\n",
    "                    \"type\": \"object\",\n",
    "                    \"properties\": {\n",
    "                        \"ingredients\": {\n",
    "                            \"type\": \"array\",\n",
    "                            \"items\": {\"type\": \"string\"},\n",
    "                            \"description\": \"List of available ingredients\",\n",
    "                        },\n",
    "                        \"cuisine_type\": {\n",
    "                            \"type\": \"string\",\n",
    "                            \"description\": \"Preferred cuisine type (optional)\",\n",
    "                            \"enum\": [\"Italian\", \"Mexican\", \"Asian\", \"American\", \"Any\"],\n",
    "                        },\n",
    "                    },\n",
    "                    \"required\": [\"ingredients\"],\n",
    "                },\n",
    "            },\n",
    "        },\n",
    "        {\n",
    "            \"type\": \"function\",\n",
    "            \"function\": {\n",
    "                \"name\": \"get_nutritional_info\",\n",
    "                \"description\": \"Get nutritional information for a recipe\",\n",
    "                \"parameters\": {\n",
    "                    \"type\": \"object\",\n",
    "                    \"properties\": {\n",
    "                        \"recipe_name\": {\n",
    "                            \"type\": \"string\",\n",
    "                            \"description\": \"Name of the recipe\",\n",
    "                        },\n",
    "                    },\n",
    "                    \"required\": [\"recipe_name\"],\n",
    "                },\n",
    "            },\n",
    "        },\n",
    "    ],\n",
    ")"
   ]
  },
  {
   "cell_type": "markdown",
   "id": "da33decd",
   "metadata": {},
   "source": [
    "### Step 2: Create a Thread and Add a User Message\n",
    "\n",
    "Now, let's create a conversation thread and add a user's message to start the interaction."
   ]
  },
  {
   "cell_type": "code",
   "execution_count": null,
   "id": "cd78a9ac",
   "metadata": {},
   "outputs": [],
   "source": [
    "thread = client.beta.threads.create()\n",
    "\n",
    "message = client.beta.threads.messages.create(\n",
    "    thread_id=thread.id,\n",
    "    role=\"user\",\n",
    "    content=\"I have chicken, rice, and bell peppers. What can I make for dinner?\",\n",
    ")"
   ]
  },
  {
   "cell_type": "markdown",
   "id": "51c879c1",
   "metadata": {},
   "source": [
    "### Step 3: Handle Function Calls with an Event Handler\n",
    "\n",
    "We'll use an event handler to process function calls and provide results back to the assistant."
   ]
  },
  {
   "cell_type": "code",
   "execution_count": null,
   "id": "ef28f8bb",
   "metadata": {},
   "outputs": [],
   "source": [
    "from typing_extensions import override\n",
    "from openai import AssistantEventHandler\n",
    "\n",
    "class CookingAssistantHandler(AssistantEventHandler):\n",
    "    @override\n",
    "    def on_event(self, event):\n",
    "        if event.event == 'thread.run.requires_action':\n",
    "            run_id = event.data.id\n",
    "            self.handle_requires_action(event.data, run_id)\n",
    "\n",
    "    def handle_requires_action(self, data, run_id):\n",
    "        tool_outputs = []\n",
    "        \n",
    "        for tool in data.required_action.submit_tool_outputs.tool_calls:\n",
    "            if tool.function.name == \"get_recipe_suggestion\":\n",
    "                # Simulate recipe suggestion function\n",
    "                recipe = {\n",
    "                    \"name\": \"Chicken Stir-Fry\",\n",
    "                    \"cuisine\": \"Asian\",\n",
    "                    \"cooking_time\": \"30 minutes\",\n",
    "                }\n",
    "                tool_outputs.append({\n",
    "                    \"tool_call_id\": tool.id,\n",
    "                    \"output\": str(recipe),\n",
    "                })\n",
    "            elif tool.function.name == \"get_nutritional_info\":\n",
    "                # Simulate nutritional information function\n",
    "                nutrition = {\n",
    "                    \"calories\": 400,\n",
    "                    \"protein\": \"35g\",\n",
    "                    \"carbs\": \"45g\",\n",
    "                    \"fat\": \"12g\",\n",
    "                }\n",
    "                tool_outputs.append({\n",
    "                    \"tool_call_id\": tool.id,\n",
    "                    \"output\": str(nutrition),\n",
    "                })\n",
    "        \n",
    "        self.submit_tool_outputs(tool_outputs, run_id)\n",
    "\n",
    "    def submit_tool_outputs(self, tool_outputs, run_id):\n",
    "        with client.beta.threads.runs.submit_tool_outputs_stream(\n",
    "            thread_id=self.current_run.thread_id,\n",
    "            run_id=self.current_run.id,\n",
    "            tool_outputs=tool_outputs,\n",
    "            event_handler=CookingAssistantHandler(),\n",
    "        ) as stream:\n",
    "            for text in stream.text_deltas:\n",
    "                print(text, end=\"\", flush=True)\n",
    "            print()"
   ]
  },
  {
   "cell_type": "markdown",
   "id": "2b037347",
   "metadata": {},
   "source": [
    "### Step 4: Run the Assistant and Process the Response\n",
    "\n",
    "Finally, we'll create a run and use our event handler to manage the interaction."
   ]
  },
  {
   "cell_type": "code",
   "execution_count": null,
   "id": "1286b015",
   "metadata": {},
   "outputs": [],
   "source": [
    "# Create and stream the run\n",
    "with client.beta.threads.runs.stream(\n",
    "    thread_id=thread.id,\n",
    "    assistant_id=assistant.id,\n",
    "    event_handler=CookingAssistantHandler()\n",
    ") as stream:\n",
    "    stream.until_done()"
   ]
  },
  {
   "cell_type": "markdown",
   "id": "737fa20d",
   "metadata": {},
   "source": [
    "When you run this code, you'll see the assistant suggest \"Chicken Stir-Fry\" based on the provided ingredients. If you ask for nutritional information about the suggested recipe, it will provide the simulated data.\n",
    "\n",
    "## Example 2: Building a Package Tracking Assistant\n",
    "\n",
    "Now, let's build a Package Tracking Assistant that can retrieve the status and expected delivery date of a package.\n",
    "\n",
    "### Step 1: Define the Functions\n",
    "\n",
    "We'll define two functions:\n",
    "\n",
    "*   `get_package_status`: Retrieves the status of a package based on its tracking number.\n",
    "*   `get_expected_delivery`: Provides the estimated delivery date for a package."
   ]
  },
  {
   "cell_type": "code",
   "execution_count": 1,
   "id": "379cee5e",
   "metadata": {},
   "outputs": [],
   "source": [
    "from openai import OpenAI\n",
    "\n",
    "client = OpenAI()\n",
    "\n",
    "assistant = client.beta.assistants.create(\n",
    "    instructions=\"You are a package tracking assistant. Use the provided functions to retrieve package status and expected delivery dates.\",\n",
    "    model=\"gpt-4o\",\n",
    "    tools=[\n",
    "        {\n",
    "            \"type\": \"function\",\n",
    "            \"function\": {\n",
    "                \"name\": \"get_package_status\",\n",
    "                \"description\": \"Retrieve the status of a package by tracking number.\",\n",
    "                \"parameters\": {\n",
    "                    \"type\": \"object\",\n",
    "                    \"properties\": {\n",
    "                        \"tracking_number\": {\n",
    "                            \"type\": \"string\",\n",
    "                            \"description\": \"The package tracking number.\",\n",
    "                        },\n",
    "                    },\n",
    "                    \"required\": [\"tracking_number\"],\n",
    "                },\n",
    "            },\n",
    "        },\n",
    "        {\n",
    "            \"type\": \"function\",\n",
    "            \"function\": {\n",
    "                \"name\": \"get_expected_delivery\",\n",
    "                \"description\": \"Get the expected delivery date for a package.\",\n",
    "                \"parameters\": {\n",
    "                    \"type\": \"object\",\n",
    "                    \"properties\": {\n",
    "                        \"tracking_number\": {\n",
    "                            \"type\": \"string\",\n",
    "                            \"description\": \"The package tracking number.\",\n",
    "                        },\n",
    "                    },\n",
    "                    \"required\": [\"tracking_number\"],\n",
    "                },\n",
    "            },\n",
    "        },\n",
    "    ],\n",
    ")"
   ]
  },
  {
   "cell_type": "markdown",
   "id": "d3d7275a",
   "metadata": {},
   "source": [
    "### Step 2: User Query and Function Invocation\n",
    "\n",
    "Let's create a thread and add a user query:"
   ]
  },
  {
   "cell_type": "code",
   "execution_count": 2,
   "id": "d361745c",
   "metadata": {},
   "outputs": [],
   "source": [
    "thread = client.beta.threads.create()\n",
    "\n",
    "message = client.beta.threads.messages.create(\n",
    "    thread_id=thread.id,\n",
    "    role=\"user\",\n",
    "    content=\"Can you track package 1234567890?\",\n",
    ")"
   ]
  },
  {
   "cell_type": "markdown",
   "id": "d67ce08a",
   "metadata": {},
   "source": [
    "### Step 3: Create a Run\n",
    "\n",
    "We will now create a run to process the user's message."
   ]
  },
  {
   "cell_type": "code",
   "execution_count": 3,
   "id": "987c7b47",
   "metadata": {},
   "outputs": [],
   "source": [
    "run = client.beta.threads.runs.create(\n",
    "    thread_id=thread.id,\n",
    "    assistant_id=assistant.id\n",
    ")"
   ]
  },
  {
   "cell_type": "markdown",
   "id": "dae8fe99",
   "metadata": {},
   "source": [
    "### Step 4: Mock External API Calls and Submit Results\n",
    "\n",
    "We'll simulate the external API calls and submit the results back to the assistant."
   ]
  },
  {
   "cell_type": "code",
   "execution_count": 4,
   "id": "4751736c",
   "metadata": {},
   "outputs": [],
   "source": [
    "import time\n",
    "\n",
    "# Wait for the run to require action (or poll for the status)\n",
    "while run.status != \"requires_action\":\n",
    "    time.sleep(1)\n",
    "    run = client.beta.threads.runs.retrieve(thread_id=thread.id, run_id=run.id)\n",
    "\n",
    "# Check if the run requires action\n",
    "if run.status == \"requires_action\":\n",
    "    tool_calls = run.required_action.submit_tool_outputs.tool_calls\n",
    "    tool_outputs = []\n",
    "\n",
    "    for tool_call in tool_calls:\n",
    "        if tool_call.function.name == \"get_package_status\":\n",
    "            # Simulate get_package_status function\n",
    "            # output = get_package_status(tool_call.function.arguments.tracking_number)\n",
    "            tool_outputs.append({\n",
    "                \"tool_call_id\": tool_call.id,\n",
    "                \"output\": '{\"status\": \"In Transit\"}',\n",
    "            })\n",
    "        elif tool_call.function.name == \"get_expected_delivery\":\n",
    "            # Simulate get_expected_delivery function\n",
    "            tool_outputs.append({\n",
    "                \"tool_call_id\": tool_call.id,\n",
    "                \"output\": '{\"expected_delivery\": \"2025-01-15\"}',\n",
    "            })\n",
    "\n",
    "    # Submit tool outputs\n",
    "    run = client.beta.threads.runs.submit_tool_outputs(\n",
    "        thread_id=thread.id,\n",
    "        run_id=run.id,\n",
    "        tool_outputs=tool_outputs\n",
    "    )"
   ]
  },
  {
   "cell_type": "markdown",
   "id": "5ba390df",
   "metadata": {},
   "source": [
    "### Step 5: Retrieve and Display the Final Message\n",
    "\n",
    "Finally, we'll retrieve and display the assistant's final response."
   ]
  },
  {
   "cell_type": "code",
   "execution_count": 5,
   "id": "bd14f938",
   "metadata": {},
   "outputs": [
    {
     "name": "stdout",
     "output_type": "stream",
     "text": [
      "The package with tracking number 1234567890 is currently \"In Transit\" and is expected to be delivered on January 15, 2025.\n"
     ]
    }
   ],
   "source": [
    "# Wait for the run to complete\n",
    "while run.status != \"completed\":\n",
    "    time.sleep(1)\n",
    "    run = client.beta.threads.runs.retrieve(thread_id=thread.id, run_id=run.id)\n",
    "\n",
    "# Retrieve the messages\n",
    "messages = client.beta.threads.messages.list(thread_id=thread.id)\n",
    "\n",
    "# Find and print the last assistant message\n",
    "for msg in reversed(messages.data):\n",
    "    if msg.role == \"assistant\":\n",
    "        print(msg.content[0].text.value)\n",
    "        break"
   ]
  },
  {
   "cell_type": "markdown",
   "id": "40d0629d",
   "metadata": {},
   "source": [
    "When you run this code, you should see an output similar to:"
   ]
  },
  {
   "cell_type": "code",
   "execution_count": null,
   "id": "f356990c",
   "metadata": {},
   "outputs": [],
   "source": [
    "# Your package (1234567890) is currently In Transit. It is expected to be delivered by 2025-01-15."
   ]
  },
  {
   "cell_type": "markdown",
   "id": "bd2212d0",
   "metadata": {},
   "source": [
    "## Conclusion\n",
    "\n",
    "The Function Calling Tool in the OpenAI Assistants API provides a powerful way to extend the capabilities of your assistants. By integrating external functions, you can create intelligent agents that can perform a wide range of tasks, from providing cooking recommendations to tracking packages and beyond.\n",
    "\n",
    "In this lesson, we've covered the fundamental concepts of function calling, walked through two practical examples, and provided insights into handling function calls and managing the assistant's lifecycle. With this knowledge, you're well-equipped to start building your own sophisticated assistants using the OpenAI Assistants API.\n",
    "\n",
    "## Further Exploration\n",
    "\n",
    "To deepen your understanding and explore more advanced use cases, consider the following:\n",
    "\n",
    "1.  **Error Handling**: Implement robust error handling in your function call handlers to gracefully manage API failures or unexpected inputs.\n",
    "2.  **Asynchronous Operations**: Explore how to handle long-running operations or asynchronous function calls within your assistant.\n",
    "3.  **Complex Function Definitions**: Experiment with more complex function definitions, including nested objects and arrays in your parameters.\n",
    "4.  **Integration with Real APIs**: Replace the mock functions with actual API calls to create truly interactive assistants.\n",
    "5.  **Security Considerations**: If integrating with real APIs, be mindful of security best practices, such as API key management and input sanitization.\n",
    "\n",
    "Happy building!"
   ]
  }
 ],
 "metadata": {
  "kernelspec": {
   "display_name": "gpt-assistants",
   "language": "python",
   "name": "gpt-assistants"
  },
  "language_info": {
   "codemirror_mode": {
    "name": "ipython",
    "version": 3
   },
   "file_extension": ".py",
   "mimetype": "text/x-python",
   "name": "python",
   "nbconvert_exporter": "python",
   "pygments_lexer": "ipython3",
   "version": "3.11.11"
  }
 },
 "nbformat": 4,
 "nbformat_minor": 5
}
