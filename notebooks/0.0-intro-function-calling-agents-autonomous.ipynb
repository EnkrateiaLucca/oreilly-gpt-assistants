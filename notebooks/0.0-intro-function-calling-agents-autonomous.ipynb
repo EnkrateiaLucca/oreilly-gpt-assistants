{
 "cells": [
  {
   "cell_type": "markdown",
   "metadata": {},
   "source": [
    "# Can you SEE MY SCREEN?"
   ]
  },
  {
   "cell_type": "markdown",
   "metadata": {},
   "source": [
    "<span style=\"color: red;\"> \n",
    "How do we connect LLMs with Tools?\n",
    "</span>\n"
   ]
  },
  {
   "cell_type": "code",
   "execution_count": 1,
   "metadata": {},
   "outputs": [],
   "source": [
    "from openai import OpenAI\n",
    "import os\n",
    "\n",
    "client = OpenAI()\n",
    "\n",
    "# if you don't have an API key as an environment variable you can set it here\n",
    "\n",
    "# os.environ[\"OPENAI_API_KEY\"] = \"\""
   ]
  },
  {
   "cell_type": "code",
   "execution_count": 2,
   "metadata": {},
   "outputs": [
    {
     "data": {
      "text/plain": [
       "\"Connecting Large Language Models (LLMs) with external tools involves integrating the model's output with various APIs, scripts, databases, or other software functionalities to enhance its capabilities. Here are some key steps and considerations for effectively connecting LLMs with tools:\\n\\n### 1. **Identify Use Cases**:\\n   - Determine the specific needs that can be met by integrating tools with an LLM. Common use cases include data retrieval, performing calculations, sending emails, accessing calendars, or executing code.\\n\\n### 2. **Define Interfaces**:\\n   - **API Integration**: Many tools expose APIs that can be called by your application. LLMs can be programmed to formulate requests based on their output.\\n   - **Function Calls**: You can create functions that take inputs from the LLM’s output and execute specific tasks or calculations.\\n\\n### 3. **Setting Up the Environment**:\\n   - Ensure that your development environment has access to both the LLM and the tools you want to connect to. This may involve installing libraries or SDKs and authenticating with APIs.\\n\\n### 4. **Creating a Middleware**:\\n   - Develop a middleware that serves as an intermediary between the LLM and the tool. This can involve:\\n     - **Input Parsing**: Taking the output from the LLM and converting it into a format that can be sent to the tool.\\n     - **Response Handling**: Processing the output from the tool and formulating a response for the LLM.\\n\\n### 5. **Designing the Prompting Mechanism**:\\n   - Create prompts that instruct the LLM to generate outputs in a way that can easily be parsed for tool interaction. This can include specifying commands or queries clearly.\\n\\n### 6. **Error Handling and Validation**:\\n   - Implement checks to validate inputs before sending them to the tool and to handle errors gracefully in case the tool fails to respond or returns an error.\\n\\n### 7. **Feedback Loop**:\\n   - Use outputs from the tools to provide context back to the LLM, enabling more informed and relevant responses based on real-time data.\\n\\n### 8. **User Interaction**:\\n   - If the integration involves user interaction, design the flow to ensure users understand how their input affects the output of the tools connected to the LLM.\\n\\n### 9. **Security Considerations**:\\n   - Ensure that sensitive data is handled securely. Use encryption where necessary and check for proper authentication to prevent unauthorized access to tools.\\n\\n### Example Scenario:\\nSuppose we want to connect an LLM with a weather API:\\n1. **User Input**: “What’s the weather in New York tomorrow?”\\n2. **LLM Output**: The model identifies the intent to fetch weather information.\\n3. **API Call Formation**: It generates a request to the weather API with parameters for New York and tomorrow’s date.\\n4. **Sending Request**: The middleware sends the request to the API.\\n5. **Receiving Response**: The middleware receives the weather information.\\n6. **Final Output**: The middleware formats this information and sends it back to the user.\\n\\n### Tools and Libraries:\\n- Use frameworks like Langchain, OpenAI, or Hugging Face's libraries that simplify interactions between LLMs and external APIs.\\n- Consider using serverless functions or cloud services to run your middleware services effectively.\\n\\nBy thoughtfully integrating LLMs with external tools, you can build systems that leverage the strengths of natural language processing and real-time data access.\""
      ]
     },
     "execution_count": 2,
     "metadata": {},
     "output_type": "execute_result"
    }
   ],
   "source": [
    "def llm_response(prompt: str):\n",
    "    response = client.chat.completions.create(\n",
    "        model=\"gpt-4o-mini\",\n",
    "        messages=[{\"role\": \"user\", \"content\": prompt}],\n",
    "    )\n",
    "    return response.choices[0].message.content\n",
    "\n",
    "llm_response(\"How do we connect LLMs with Tools?\")"
   ]
  },
  {
   "cell_type": "markdown",
   "metadata": {},
   "source": [
    "We could ask the model to:\n",
    "\n",
    "1. Generate Python code and then give the model the ability to run that code somewhere\n",
    "2. Create the Python function that executes the task, then somehow give the model the ability to run that function autonomously"
   ]
  },
  {
   "cell_type": "markdown",
   "metadata": {},
   "source": [
    "Option number 2 is what we call FUNCTION CALLING!"
   ]
  },
  {
   "cell_type": "markdown",
   "metadata": {},
   "source": [
    "# Function Calling from Scratch\n",
    "\n",
    "1. Write a Python function\n",
    "2. Make that function \"available\" to the LLM model of choice (in this case will be gpt-4o/gpt-4o-mini)\n",
    "3. Test if the model can execute that function properly\n",
    "   1. Prepare the payload for the function (the arguments for it...)\n",
    "   2. Write the function call\n",
    "   3. We run the function call ourselves\n",
    "   4. We inspect the results"
   ]
  },
  {
   "cell_type": "code",
   "execution_count": 3,
   "metadata": {},
   "outputs": [
    {
     "data": {
      "text/plain": [
       "'Folder created at ./pancakes-are-the-best'"
      ]
     },
     "execution_count": 3,
     "metadata": {},
     "output_type": "execute_result"
    }
   ],
   "source": [
    "def create_folder(folder_path: str):\n",
    "    os.makedirs(folder_path, exist_ok=True)\n",
    "    return f\"Folder created at {folder_path}\"\n",
    "\n",
    "create_folder(\"./pancakes-are-the-best\")"
   ]
  },
  {
   "cell_type": "code",
   "execution_count": 7,
   "metadata": {},
   "outputs": [
    {
     "name": "stdout",
     "output_type": "stream",
     "text": [
      "\u001b[1m\u001b[36m./pancakes-are-the-best\u001b[m\u001b[m\n"
     ]
    }
   ],
   "source": [
    "!ls -d ./* | grep pancakes"
   ]
  },
  {
   "cell_type": "code",
   "execution_count": 4,
   "metadata": {},
   "outputs": [
    {
     "data": {
      "text/plain": [
       "'File created at ./pancakes-are-the-best/pancakes-are-the-best.txt'"
      ]
     },
     "execution_count": 4,
     "metadata": {},
     "output_type": "execute_result"
    }
   ],
   "source": [
    "def write_file(file_path: str, content: str):\n",
    "    with open(file_path, \"w\") as file:\n",
    "        file.write(content)\n",
    "    return f\"File created at {file_path}\"\n",
    "\n",
    "write_file(\"./pancakes-are-the-best/pancakes-are-the-best.txt\", \"Pancakes are the best!\")"
   ]
  },
  {
   "cell_type": "code",
   "execution_count": 9,
   "metadata": {},
   "outputs": [
    {
     "name": "stdout",
     "output_type": "stream",
     "text": [
      "Pancakes are the best!"
     ]
    }
   ],
   "source": [
    "!cat pancakes-are-the-best/pancakes-are-the-best.txt"
   ]
  },
  {
   "cell_type": "markdown",
   "metadata": {},
   "source": [
    "# LLM + Python Functions"
   ]
  },
  {
   "cell_type": "markdown",
   "metadata": {},
   "source": [
    "The most silly way possible first!"
   ]
  },
  {
   "cell_type": "code",
   "execution_count": 5,
   "metadata": {},
   "outputs": [
    {
     "data": {
      "text/plain": [
       "'```python\\nwrite_file(\"./pancakes-are-better-than-waffles.md\", \"Pancakes are better than waffles because they are fluffy, soft, and can be made in various flavors, making them versatile for any breakfast craving. Unlike avocado waffles, which may be perceived as overly complex or niche, pancakes offer a classic taste that pleases everyone, including you, RS. Whether topped with syrup, fruit, or whipped cream, pancakes bring comfort and joy that avocado waffles simply can\\'t match.\")\\n```'"
      ]
     },
     "execution_count": 5,
     "metadata": {},
     "output_type": "execute_result"
    }
   ],
   "source": [
    "prompt_with_function_information = \"\"\"\n",
    "You are a personal assistant with desktop capabilities. \n",
    "Users will ask you to perform tasks and you will execute those tasks by calling one or more of the following functions:\n",
    "\n",
    "- create_folder(folder_path: str)\n",
    "- write_file(file_path: str, content: str)\n",
    "\n",
    "For example if the user asks: \n",
    "\n",
    "'Create a folder called lucas-teaches-function-callling'\n",
    "\n",
    "Your output should be code like this:\n",
    "'create_folder(\"./lucas-teaches-function-callling\")'\n",
    "\n",
    "'Create a folder called pancakes-are-the-best and write a file called pancakes-are-the-best.txt with the content \"Pancakes are the best!\"'\n",
    "\n",
    "Your output should be code like this:\n",
    "\n",
    "['create_folder(\"./pancakes-are-the-best\")', 'write_file(\"./pancakes-are-the-best/pancakes-are-the-best.txt\", \"Pancakes are the best!\")']\n",
    "\n",
    "Your OUTPUT should ALWAYS BE python code only.\n",
    "\n",
    "Here is the user prompt:\n",
    "\"\"\"\n",
    "\n",
    "\n",
    "user_prompt = \"Create a file named pancakes-are-better-than-waffles.md with a one paragraph summary for why pancakes are better, \\\n",
    "make sure to address RS a student from my course who dared to say avocado waffles are better.\"\n",
    "\n",
    "prompt = prompt_with_function_information + user_prompt\n",
    "\n",
    "llm_response(prompt)"
   ]
  },
  {
   "cell_type": "code",
   "execution_count": 13,
   "metadata": {},
   "outputs": [
    {
     "data": {
      "text/plain": [
       "'```python\\nwrite_file(\"./pancakes-are-better-than-waffles.md\", \"Pancakes are better than waffles for many reasons, RS. Unlike waffles, which can often be too crispy and dry, pancakes offer a soft, fluffy texture that\\'s perfect for soaking up syrup or fruit toppings. Additionally, pancakes can be made in countless flavors, from classic buttermilk to banana or chocolate chip, giving them a versatility that waffles simply can\\'t match. So next time you think about breakfast options, remember that pancakes have a charm and comfort that can easily surpass avocado waffles!\")\\n```'"
      ]
     },
     "execution_count": 13,
     "metadata": {},
     "output_type": "execute_result"
    }
   ],
   "source": [
    "\n",
    "output_with_python_code_and_ticks = llm_response(prompt)\n",
    "\n",
    "output_with_python_code_and_ticks"
   ]
  },
  {
   "cell_type": "markdown",
   "metadata": {},
   "source": [
    "Let's clean up this output a little bit:"
   ]
  },
  {
   "cell_type": "code",
   "execution_count": 15,
   "metadata": {},
   "outputs": [
    {
     "data": {
      "text/plain": [
       "'write_file(\"./pancakes-are-better-than-waffles.md\", \"Pancakes are better than waffles for many reasons, RS. Unlike waffles, which can often be too crispy and dry, pancakes offer a soft, fluffy texture that\\'s perfect for soaking up syrup or fruit toppings. Additionally, pancakes can be made in countless flavors, from classic buttermilk to banana or chocolate chip, giving them a versatility that waffles simply can\\'t match. So next time you think about breakfast options, remember that pancakes have a charm and comfort that can easily surpass avocado waffles!\")\\n'"
      ]
     },
     "execution_count": 15,
     "metadata": {},
     "output_type": "execute_result"
    }
   ],
   "source": [
    "output_cleaned = output_with_python_code_and_ticks.replace(\"```python\\n\", \"\").replace(\"```\", \"\")\n",
    "\n",
    "output_cleaned"
   ]
  },
  {
   "cell_type": "markdown",
   "metadata": {},
   "source": [
    "Let's find a way to execute this code!"
   ]
  },
  {
   "cell_type": "code",
   "execution_count": 16,
   "metadata": {},
   "outputs": [],
   "source": [
    "exec(output_cleaned)"
   ]
  },
  {
   "cell_type": "code",
   "execution_count": 17,
   "metadata": {},
   "outputs": [
    {
     "name": "stdout",
     "output_type": "stream",
     "text": [
      "pancakes-are-better-than-waffles.md\n",
      "\u001b[1m\u001b[36mpancakes-are-the-best\u001b[m\u001b[m\n"
     ]
    }
   ],
   "source": [
    "!ls | grep pancakes"
   ]
  },
  {
   "cell_type": "markdown",
   "metadata": {},
   "source": [
    "We could improve this a little bit by writing up a couple of functions that do a slightly better job at cleaning up the output generated by the LLM,\n",
    "and then executing the resulting function call:"
   ]
  },
  {
   "cell_type": "code",
   "execution_count": 8,
   "metadata": {},
   "outputs": [],
   "source": [
    "import re\n",
    "\n",
    "def parse_llm_function_calls(llm_output: str):\n",
    "    \"\"\"\n",
    "    Naive parser that looks for function calls in the model output (e.g. 'create_folder(\"test\")')\n",
    "    and returns a list of dicts, each containing 'function_name' and 'args'.\n",
    "    \"\"\"\n",
    "    calls = []\n",
    "    \n",
    "    # Regex looks for function_name( ... ) \n",
    "    # capturing everything until the next matching parenthesis\n",
    "    pattern = r\"(\\w+)\\(([^)]*)\\)\"\n",
    "    matches = re.findall(pattern, llm_output)\n",
    "    \n",
    "    for match in matches:\n",
    "        function_name = match[0]\n",
    "        raw_args = match[1].split(',')\n",
    "        \n",
    "        # Clean up quotes/spaces\n",
    "        parsed_args = [arg.strip().strip('\"').strip(\"'\") for arg in raw_args]\n",
    "        calls.append({\n",
    "            \"function_name\": function_name,\n",
    "            \"args\": parsed_args\n",
    "        })\n",
    "    \n",
    "    return calls\n",
    "\n",
    "def execute_llm_function_calls(calls):\n",
    "    \"\"\"\n",
    "    Executes each call by mapping the function_name to an actual Python function.\n",
    "    If a function is unknown, handle gracefully.\n",
    "    \"\"\"\n",
    "    for call in calls:\n",
    "        fn_name = call[\"function_name\"]\n",
    "        args = call[\"args\"]\n",
    "        \n",
    "        if fn_name == \"create_folder\":\n",
    "            create_folder(*args)\n",
    "        elif fn_name == \"write_file\":\n",
    "            write_file(*args)\n",
    "        else:\n",
    "            print(f\"[Warning] Unknown function: {fn_name}\")\n",
    "\n",
    "# Example usage\n",
    "# Suppose the model returned the following text (as a single string):\n",
    "# 'create_folder(\"./some_folder\") write_file(\"./some_folder/readme.txt\",\"Some content\")'\n",
    "\n",
    "model_generated_code = \"\"\"\n",
    "create_folder(\"./some_folder\")\n",
    "write_file(\"./some_folder/readme.txt\", \"Some content\")\n",
    "\"\"\"\n",
    "\n",
    "# 1) Parse\n",
    "calls = parse_llm_function_calls(model_generated_code)\n",
    "\n",
    "# 2) Execute\n",
    "execute_llm_function_calls(calls)"
   ]
  },
  {
   "cell_type": "code",
   "execution_count": 11,
   "metadata": {},
   "outputs": [
    {
     "name": "stdout",
     "output_type": "stream",
     "text": [
      "readme.txt\n"
     ]
    }
   ],
   "source": [
    "!ls some_folder/"
   ]
  },
  {
   "cell_type": "markdown",
   "metadata": {},
   "source": [
    "We connected LLM + FUNCTION via some simple PROMPT magic!"
   ]
  },
  {
   "cell_type": "code",
   "execution_count": 10,
   "metadata": {},
   "outputs": [
    {
     "name": "stdout",
     "output_type": "stream",
     "text": [
      "\u001b[1m\u001b[36msome_folder/\u001b[m\u001b[m\n"
     ]
    }
   ],
   "source": [
    "!ls -d */ | grep some"
   ]
  }
 ],
 "metadata": {
  "kernelspec": {
   "display_name": "gpt-assistants",
   "language": "python",
   "name": "gpt-assistants"
  },
  "language_info": {
   "codemirror_mode": {
    "name": "ipython",
    "version": 3
   },
   "file_extension": ".py",
   "mimetype": "text/x-python",
   "name": "python",
   "nbconvert_exporter": "python",
   "pygments_lexer": "ipython3",
   "version": "3.11.11"
  }
 },
 "nbformat": 4,
 "nbformat_minor": 2
}
