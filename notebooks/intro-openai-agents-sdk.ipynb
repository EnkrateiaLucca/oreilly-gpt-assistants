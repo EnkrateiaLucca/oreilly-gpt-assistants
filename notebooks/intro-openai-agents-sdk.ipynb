{
 "cells": [
  {
   "cell_type": "code",
   "execution_count": null,
   "metadata": {},
   "outputs": [],
   "source": [
    "! pip install openai-agents"
   ]
  },
  {
   "cell_type": "code",
   "execution_count": 1,
   "metadata": {},
   "outputs": [
    {
     "name": "stdout",
     "output_type": "stream",
     "text": [
      "Functions that call self,  \n",
      "Endless loops weave through the code,  \n",
      "Infinity breathes.\n"
     ]
    }
   ],
   "source": [
    "import nest_asyncio\n",
    "nest_asyncio.apply()\n",
    "\n",
    "from agents import Agent, Runner\n",
    "\n",
    "\n",
    "agent = Agent(name=\"Assistant\", instructions=\"You are a helpful assistant\")\n",
    "\n",
    "result = Runner.run_sync(agent, \"Write a haiku about recursion in programming.\")\n",
    "print(result.final_output)\n",
    "\n",
    "# Code within the code,\n",
    "# Functions calling themselves,\n",
    "# Infinite loop's dance."
   ]
  },
  {
   "cell_type": "code",
   "execution_count": 4,
   "metadata": {},
   "outputs": [],
   "source": [
    "g_sheets_agent = Agent(name=\"Google-Sheets-Agent\", instructions=\"You help with Google Sheets information.\")"
   ]
  },
  {
   "cell_type": "code",
   "execution_count": 5,
   "metadata": {},
   "outputs": [],
   "source": [
    "bash_cmds_agent = Agent(name=\"Bash-Commands-Agent\", instructions=\"You help with information about Bash commands. Your output is always a bash cmd and a simple justification.\")"
   ]
  },
  {
   "cell_type": "code",
   "execution_count": 2,
   "metadata": {},
   "outputs": [],
   "source": [
    "from agents import InputGuardrail, GuardrailFunctionOutput, Agent, Runner\n",
    "from pydantic import BaseModel\n",
    "\n",
    "class GoogleSheetsOrBashOutput(BaseModel):\n",
    "    is_google_sheets_or_bash: bool\n",
    "    reasoning: str\n",
    "\n",
    "guardrail_agent = Agent(\n",
    "    name=\"Guardrail check\",\n",
    "    instructions=\"Check if the user is asking about google sheets stuff or bash commands.\",\n",
    "    output_type=GoogleSheetsOrBashOutput,\n",
    ")\n",
    "\n",
    "async def gsheets_or_bash_guardrail(ctx, agent, input_data):\n",
    "    result = await Runner.run(guardrail_agent, input_data, context=ctx.context)\n",
    "    final_output = result.final_output_as(GoogleSheetsOrBashOutput)\n",
    "    return GuardrailFunctionOutput(\n",
    "        output_info=final_output,\n",
    "        tripwire_triggered=not final_output.is_google_sheets_or_bash,\n",
    "    )"
   ]
  },
  {
   "cell_type": "code",
   "execution_count": 6,
   "metadata": {},
   "outputs": [],
   "source": [
    "triage_agent = Agent(\n",
    "    name=\"Triage Agent\",\n",
    "    instructions=\"You determine which agent to use based on the user's homework question\",\n",
    "    handoffs=[g_sheets_agent, bash_cmds_agent],\n",
    "    input_guardrails=[\n",
    "        InputGuardrail(guardrail_function=gsheets_or_bash_guardrail),\n",
    "    ]\n",
    ")\n",
    "\n"
   ]
  },
  {
   "cell_type": "code",
   "execution_count": null,
   "metadata": {},
   "outputs": [],
   "source": []
  },
  {
   "cell_type": "code",
   "execution_count": 7,
   "metadata": {},
   "outputs": [],
   "source": [
    "from agents import Runner\n",
    "\n",
    "async def main():\n",
    "    result = await Runner.run(triage_agent, \"What is the right command to list the files in the current directory?\")\n",
    "    print(result.final_output)\n",
    "    \n",
    "    result = await Runner.run(triage_agent, \"In google sheets, how do I sort data from one column according to the values in another column?\")\n",
    "    print(result.final_output)"
   ]
  },
  {
   "cell_type": "code",
   "execution_count": 8,
   "metadata": {},
   "outputs": [
    {
     "name": "stdout",
     "output_type": "stream",
     "text": [
      "```bash\n",
      "ls\n",
      "```\n",
      "\n",
      "This command lists the files and directories in the current directory.\n",
      "To sort data in Google Sheets based on the values in another column, you can follow these steps:\n",
      "\n",
      "1. **Select the Range:**\n",
      "   - Highlight the range of cells you want to sort, including both the data column and the column whose values you'll base the sort on.\n",
      "\n",
      "2. **Open the Sort Options:**\n",
      "   - Click on \"Data\" in the menu at the top.\n",
      "\n",
      "3. **Sort Data:**\n",
      "   - Choose \"Sort range\" from the dropdown menu.\n",
      "   - In the dialog box that appears, you can select which column you want to sort by.\n",
      "   - You can choose to sort in ascending or descending order.\n",
      "\n",
      "4. **Confirm the Sort:**\n",
      "   - Click \"Sort\" to apply the changes.\n",
      "\n",
      "This will rearrange your data based on the values in the selected column.\n"
     ]
    }
   ],
   "source": [
    "import asyncio\n",
    "\n",
    "asyncio.run(main())"
   ]
  },
  {
   "cell_type": "markdown",
   "metadata": {},
   "source": [
    "**View your traces**\n",
    "\n",
    "To review what happened during your agent run, navigate to the [Trace viewer](https://platform.openai.com/traces) in the OpenAI Dashboard to view traces of your agent runs."
   ]
  },
  {
   "cell_type": "code",
   "execution_count": 9,
   "metadata": {},
   "outputs": [
    {
     "data": {
      "image/svg+xml": [
       "<?xml version=\"1.0\" encoding=\"UTF-8\" standalone=\"no\"?>\n",
       "<!DOCTYPE svg PUBLIC \"-//W3C//DTD SVG 1.1//EN\"\n",
       " \"http://www.w3.org/Graphics/SVG/1.1/DTD/svg11.dtd\">\n",
       "<!-- Generated by graphviz version 12.2.0 (20241103.1931)\n",
       " -->\n",
       "<!-- Title: G Pages: 1 -->\n",
       "<svg width=\"334pt\" height=\"298pt\"\n",
       " viewBox=\"0.00 0.00 334.00 298.38\" xmlns=\"http://www.w3.org/2000/svg\" xmlns:xlink=\"http://www.w3.org/1999/xlink\">\n",
       "<g id=\"graph0\" class=\"graph\" transform=\"scale(1 1) rotate(0) translate(4 294.38)\">\n",
       "<title>G</title>\n",
       "<polygon fill=\"white\" stroke=\"none\" points=\"-4,4 -4,-294.38 330,-294.38 330,4 -4,4\"/>\n",
       "<!-- __start__ -->\n",
       "<g id=\"node1\" class=\"node\">\n",
       "<title>__start__</title>\n",
       "<ellipse fill=\"lightblue\" stroke=\"black\" cx=\"159.25\" cy=\"-273.58\" rx=\"51.09\" ry=\"16.79\"/>\n",
       "<text text-anchor=\"middle\" x=\"159.25\" y=\"-268.16\" font-family=\"Arial\" font-size=\"14.00\">__start__</text>\n",
       "</g>\n",
       "<!-- Triage Agent -->\n",
       "<g id=\"node3\" class=\"node\">\n",
       "<title>Triage Agent</title>\n",
       "<polygon fill=\"lightyellow\" stroke=\"black\" points=\"213.25,-220.79 105.25,-220.79 105.25,-163.19 213.25,-163.19 213.25,-220.79\"/>\n",
       "<text text-anchor=\"middle\" x=\"159.25\" y=\"-186.56\" font-family=\"Arial\" font-size=\"14.00\">Triage Agent</text>\n",
       "</g>\n",
       "<!-- __start__&#45;&gt;Triage Agent -->\n",
       "<g id=\"edge1\" class=\"edge\">\n",
       "<title>__start__&#45;&gt;Triage Agent</title>\n",
       "<path fill=\"none\" stroke=\"black\" stroke-width=\"1.5\" d=\"M159.25,-256.47C159.25,-249.64 159.25,-241.34 159.25,-233.02\"/>\n",
       "<polygon fill=\"black\" stroke=\"black\" stroke-width=\"1.5\" points=\"162.75,-233.26 159.25,-223.26 155.75,-233.26 162.75,-233.26\"/>\n",
       "</g>\n",
       "<!-- __end__ -->\n",
       "<g id=\"node2\" class=\"node\">\n",
       "<title>__end__</title>\n",
       "<ellipse fill=\"lightblue\" stroke=\"black\" cx=\"159.25\" cy=\"-16.79\" rx=\"48.44\" ry=\"16.79\"/>\n",
       "<text text-anchor=\"middle\" x=\"159.25\" y=\"-11.37\" font-family=\"Arial\" font-size=\"14.00\">__end__</text>\n",
       "</g>\n",
       "<!-- Google&#45;Sheets&#45;Agent -->\n",
       "<g id=\"node4\" class=\"node\">\n",
       "<title>Google&#45;Sheets&#45;Agent</title>\n",
       "<polygon fill=\"lightyellow\" stroke=\"black\" points=\"146.5,-127.19 0,-127.19 0,-69.59 146.5,-69.59 146.5,-127.19\"/>\n",
       "<text text-anchor=\"middle\" x=\"73.25\" y=\"-92.96\" font-family=\"Arial\" font-size=\"14.00\">Google&#45;Sheets&#45;Agent</text>\n",
       "</g>\n",
       "<!-- Triage Agent&#45;&gt;Google&#45;Sheets&#45;Agent -->\n",
       "<g id=\"edge2\" class=\"edge\">\n",
       "<title>Triage Agent&#45;&gt;Google&#45;Sheets&#45;Agent</title>\n",
       "<path fill=\"none\" stroke=\"black\" stroke-width=\"1.5\" d=\"M132.98,-163.01C125.05,-154.56 116.22,-145.16 107.84,-136.23\"/>\n",
       "<polygon fill=\"black\" stroke=\"black\" stroke-width=\"1.5\" points=\"110.61,-134.06 101.21,-129.17 105.5,-138.85 110.61,-134.06\"/>\n",
       "</g>\n",
       "<!-- Bash&#45;Commands&#45;Agent -->\n",
       "<g id=\"node5\" class=\"node\">\n",
       "<title>Bash&#45;Commands&#45;Agent</title>\n",
       "<polygon fill=\"lightyellow\" stroke=\"black\" points=\"326,-127.19 164.5,-127.19 164.5,-69.59 326,-69.59 326,-127.19\"/>\n",
       "<text text-anchor=\"middle\" x=\"245.25\" y=\"-92.96\" font-family=\"Arial\" font-size=\"14.00\">Bash&#45;Commands&#45;Agent</text>\n",
       "</g>\n",
       "<!-- Triage Agent&#45;&gt;Bash&#45;Commands&#45;Agent -->\n",
       "<g id=\"edge4\" class=\"edge\">\n",
       "<title>Triage Agent&#45;&gt;Bash&#45;Commands&#45;Agent</title>\n",
       "<path fill=\"none\" stroke=\"black\" stroke-width=\"1.5\" d=\"M185.52,-163.01C193.45,-154.56 202.28,-145.16 210.66,-136.23\"/>\n",
       "<polygon fill=\"black\" stroke=\"black\" stroke-width=\"1.5\" points=\"213,-138.85 217.29,-129.17 207.89,-134.06 213,-138.85\"/>\n",
       "</g>\n",
       "<!-- Google&#45;Sheets&#45;Agent&#45;&gt;__end__ -->\n",
       "<g id=\"edge3\" class=\"edge\">\n",
       "<title>Google&#45;Sheets&#45;Agent&#45;&gt;__end__</title>\n",
       "<path fill=\"none\" stroke=\"black\" stroke-width=\"1.5\" d=\"M103.81,-69.1C113.66,-59.99 124.46,-49.99 133.89,-41.26\"/>\n",
       "<polygon fill=\"black\" stroke=\"black\" stroke-width=\"1.5\" points=\"136.15,-43.94 141.12,-34.58 131.4,-38.8 136.15,-43.94\"/>\n",
       "</g>\n",
       "<!-- Bash&#45;Commands&#45;Agent&#45;&gt;__end__ -->\n",
       "<g id=\"edge5\" class=\"edge\">\n",
       "<title>Bash&#45;Commands&#45;Agent&#45;&gt;__end__</title>\n",
       "<path fill=\"none\" stroke=\"black\" stroke-width=\"1.5\" d=\"M214.69,-69.1C204.84,-59.99 194.04,-49.99 184.61,-41.26\"/>\n",
       "<polygon fill=\"black\" stroke=\"black\" stroke-width=\"1.5\" points=\"187.1,-38.8 177.38,-34.58 182.35,-43.94 187.1,-38.8\"/>\n",
       "</g>\n",
       "</g>\n",
       "</svg>\n"
      ],
      "text/plain": [
       "<graphviz.sources.Source at 0x1214a2f10>"
      ]
     },
     "execution_count": 9,
     "metadata": {},
     "output_type": "execute_result"
    }
   ],
   "source": [
    "from agents.extensions.visualization import draw_graph\n",
    "\n",
    "draw_graph(triage_agent)"
   ]
  },
  {
   "cell_type": "code",
   "execution_count": null,
   "metadata": {},
   "outputs": [
    {
     "name": "stdout",
     "output_type": "stream",
     "text": [
      "plot_data\n",
      "Plot data on a graph\n",
      "{\n",
      "  \"$defs\": {\n",
      "    \"PlotData\": {\n",
      "      \"properties\": {\n",
      "        \"x_values\": {\n",
      "          \"description\": \"The x-values to plot\",\n",
      "          \"items\": {\n",
      "            \"type\": \"number\"\n",
      "          },\n",
      "          \"title\": \"X Values\",\n",
      "          \"type\": \"array\"\n",
      "        },\n",
      "        \"y_values\": {\n",
      "          \"description\": \"The y-values to plot\",\n",
      "          \"items\": {\n",
      "            \"type\": \"number\"\n",
      "          },\n",
      "          \"title\": \"Y Values\",\n",
      "          \"type\": \"array\"\n",
      "        },\n",
      "        \"title\": {\n",
      "          \"description\": \"The title of the graph\",\n",
      "          \"title\": \"Title\",\n",
      "          \"type\": \"string\"\n",
      "        },\n",
      "        \"x_label\": {\n",
      "          \"description\": \"The label of the x-axis\",\n",
      "          \"title\": \"X Label\",\n",
      "          \"type\": \"string\"\n",
      "        },\n",
      "        \"y_label\": {\n",
      "          \"description\": \"The label of the y-axis\",\n",
      "          \"title\": \"Y Label\",\n",
      "          \"type\": \"string\"\n",
      "        },\n",
      "        \"plot_color\": {\n",
      "          \"description\": \"The color of the plot\",\n",
      "          \"title\": \"Plot Color\",\n",
      "          \"type\": \"string\"\n",
      "        }\n",
      "      },\n",
      "      \"required\": [\n",
      "        \"x_values\",\n",
      "        \"y_values\",\n",
      "        \"title\",\n",
      "        \"x_label\",\n",
      "        \"y_label\",\n",
      "        \"plot_color\"\n",
      "      ],\n",
      "      \"title\": \"PlotData\",\n",
      "      \"type\": \"object\",\n",
      "      \"additionalProperties\": false\n",
      "    }\n",
      "  },\n",
      "  \"properties\": {\n",
      "    \"data\": {\n",
      "      \"$ref\": \"#/$defs/PlotData\"\n",
      "    }\n",
      "  },\n",
      "  \"required\": [\n",
      "    \"data\"\n",
      "  ],\n",
      "  \"title\": \"plot_data_args\",\n",
      "  \"type\": \"object\",\n",
      "  \"additionalProperties\": false\n",
      "}\n",
      "\n"
     ]
    }
   ],
   "source": [
    "from agents import Agent, FunctionTool, RunContextWrapper, function_tool\n",
    "from pydantic import BaseModel, Field\n",
    "import matplotlib.pyplot as plt\n",
    "import json\n",
    "\n",
    "class PlotData(BaseModel):\n",
    "    x_values: list[float] = Field(description=\"The x-values to plot\")\n",
    "    y_values: list[float] = Field(description=\"The y-values to plot\")\n",
    "    title: str = Field(description=\"The title of the graph\")\n",
    "    x_label: str = Field(description=\"The label of the x-axis\")\n",
    "    y_label: str = Field(description=\"The label of the y-axis\")\n",
    "    plot_color: str = Field(description=\"The color of the plot\")\n",
    "\n",
    "@function_tool\n",
    "def plot_data(data: PlotData):\n",
    "    \"\"\"Plot data on a graph\"\"\"\n",
    "    plt.plot(data.x_values, data.y_values, color=data.plot_color)\n",
    "    plt.title(data.title)\n",
    "    plt.xlabel(data.x_label)\n",
    "    plt.ylabel(data.y_label)\n",
    "    plt.show()\n",
    "    return \"Graph plotted successfully\"\n",
    "\n",
    "\n",
    "\n",
    "\n",
    "agent = Agent(name=\"Test Agent\", instructions=\"You are a helpful assistant with the ability to plot data in graphs.\",\n",
    "              tools=[plot_data],\n",
    "              )\n",
    "for tool in agent.tools:\n",
    "    if isinstance(tool, FunctionTool):\n",
    "        print(tool.name)\n",
    "        print(tool.description)\n",
    "        print(json.dumps(tool.params_json_schema, indent=2))\n",
    "        print()"
   ]
  },
  {
   "cell_type": "code",
   "execution_count": 17,
   "metadata": {},
   "outputs": [
    {
     "data": {
      "image/png": "[encoded data removed]",
      "text/plain": [
       "<Figure size 640x480 with 1 Axes>"
      ]
     },
     "metadata": {},
     "output_type": "display_data"
    },
    {
     "name": "stdout",
     "output_type": "stream",
     "text": [
      "The graph of the data has been plotted with a dark green line. The title is \"Exponential Growth\" with \"Index\" as the x-axis label and \"Value\" as the y-axis label.\n"
     ]
    }
   ],
   "source": [
    "task = \"Plot this data for me: [1, 3, 9, 27, 81] make it dark green with a nice title and labels\"\n",
    "\n",
    "result = Runner.run_sync(agent, task)\n",
    "print(result.final_output)"
   ]
  },
  {
   "cell_type": "code",
   "execution_count": null,
   "metadata": {},
   "outputs": [],
   "source": []
  },
  {
   "cell_type": "code",
   "execution_count": null,
   "metadata": {},
   "outputs": [],
   "source": []
  },
  {
   "cell_type": "code",
   "execution_count": null,
   "metadata": {},
   "outputs": [],
   "source": []
  }
 ],
 "metadata": {
  "kernelspec": {
   "display_name": "openai-agents-sdk",
   "language": "python",
   "name": "openai-agents-sdk"
  },
  "language_info": {
   "codemirror_mode": {
    "name": "ipython",
    "version": 3
   },
   "file_extension": ".py",
   "mimetype": "text/x-python",
   "name": "python",
   "nbconvert_exporter": "python",
   "pygments_lexer": "ipython3",
   "version": "3.11.11"
  }
 },
 "nbformat": 4,
 "nbformat_minor": 2
}
