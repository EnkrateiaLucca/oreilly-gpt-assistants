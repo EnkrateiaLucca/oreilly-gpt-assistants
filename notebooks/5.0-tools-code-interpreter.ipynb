{
 "cells": [
  {
   "cell_type": "markdown",
   "id": "a0395ead",
   "metadata": {},
   "source": [
    "# Tools - Code Interpreter"
   ]
  },
  {
   "cell_type": "markdown",
   "id": "40a5afa5",
   "metadata": {},
   "source": [
    "## Building a Smart Data Analysis Assistant with OpenAI's Code Interpreter\n",
    "\n",
    "Let's use the Code Interpreter tool in OpenAI's Assistants API to create a sophisticated data analysis assistant. Code Interpreter allows assistants to write and run Python code in a sandboxed environment, making it perfect for data processing, analysis, and visualization tasks.\n",
    "\n",
    "Key capabilities we'll explore:\n",
    "- Processing various file formats\n",
    "- Generating visualizations\n",
    "- Running iterative analysis\n",
    "- Handling code execution outputs\n",
    "\n",
    "## Setup\n",
    "\n",
    "First, let's set up our environment with the necessary imports:"
   ]
  },
  {
   "cell_type": "code",
   "execution_count": null,
   "id": "2a42a65a",
   "metadata": {},
   "outputs": [],
   "source": [
    "import os\n",
    "import getpass\n",
    "\n",
    "def _set_env(var: str):\n",
    "    if not os.environ.get(var):\n",
    "        os.environ[var] = getpass.getpass(f\"var: \")\n",
    "\n",
    "_set_env(\"OPENAI_API_KEY\")"
   ]
  },
  {
   "cell_type": "code",
   "execution_count": null,
   "id": "8ca1dbf9",
   "metadata": {},
   "outputs": [],
   "source": [
    "from openai import OpenAI\n",
    "import time\n",
    "\n",
    "# Initialize the OpenAI client\n",
    "client = OpenAI()"
   ]
  },
  {
   "cell_type": "code",
   "execution_count": null,
   "id": "6dc8bf13",
   "metadata": {},
   "outputs": [],
   "source": [
    "from typing_extensions import override\n",
    "from openai import AssistantEventHandler\n",
    "import json"
   ]
  },
  {
   "cell_type": "markdown",
   "id": "6d9be408",
   "metadata": {},
   "source": [
    "## Creating a Data Analysis Assistant\n",
    "\n",
    "Let's create an assistant specifically designed for data analysis:"
   ]
  },
  {
   "cell_type": "code",
   "execution_count": null,
   "id": "41c101f8",
   "metadata": {},
   "outputs": [],
   "source": [
    "def create_analysis_assistant():\n",
    "    assistant = client.beta.assistants.create(\n",
    "        name=\"Data Analysis Expert\",\n",
    "        instructions=\"\"\"You are a skilled data analyst and visualization expert.\n",
    "        When analyzing data:\n",
    "        1. Start with exploratory data analysis\n",
    "        2. Create meaningful visualizations\n",
    "        3. Explain your findings clearly\n",
    "        4. Use statistical methods when appropriate\n",
    "        5. Document your code and explain your process\"\"\",\n",
    "        model=\"gpt-4o\",\n",
    "        tools=[{\"type\": \"code_interpreter\"}]\n",
    "    )\n",
    "    return assistant\n",
    "\n",
    "# Create our assistant\n",
    "analysis_assistant = create_analysis_assistant()\n",
    "print(f\"Created assistant with ID: {analysis_assistant.id}\")"
   ]
  },
  {
   "cell_type": "markdown",
   "id": "42fb5b1d",
   "metadata": {},
   "source": [
    "## Event Handler for Code Execution\n",
    "\n",
    "Let's create an event handler to manage the streaming output from code execution:"
   ]
  },
  {
   "cell_type": "code",
   "execution_count": null,
   "id": "2c6816be",
   "metadata": {},
   "outputs": [],
   "source": [
    "class AnalysisEventHandler(AssistantEventHandler):\n",
    "    @override\n",
    "    def on_text_created(self, text) -> None:\n",
    "        print(f\"\\nassistant > \", end=\"\", flush=True)\n",
    "        \n",
    "    @override\n",
    "    def on_text_delta(self, delta, snapshot):\n",
    "        print(delta.value, end=\"\", flush=True)\n",
    "    \n",
    "    @override\n",
    "    def on_tool_call_created(self, tool_call):\n",
    "        print(f\"\\n[Running Code Interpreter]\\n\", flush=True)\n",
    "        \n",
    "    @override\n",
    "    def on_tool_call_delta(self, delta, snapshot):\n",
    "        if delta.type == 'code_interpreter':\n",
    "            if delta.code_interpreter.input:\n",
    "                print(delta.code_interpreter.input, end=\"\", flush=True)\n",
    "            if delta.code_interpreter.outputs:\n",
    "                print(f\"\\n\\nOutput >\\n\", flush=True)\n",
    "                for output in delta.code_interpreter.outputs:\n",
    "                    if output.type == \"logs\":\n",
    "                        print(f\"{output.logs}\", flush=True)"
   ]
  },
  {
   "cell_type": "markdown",
   "id": "a75e0e49",
   "metadata": {},
   "source": [
    "## Thread Manager for Analysis Sessions\n",
    "\n",
    "Let's create a class to manage our analysis threads:"
   ]
  },
  {
   "cell_type": "code",
   "execution_count": null,
   "id": "06d1d2a3",
   "metadata": {},
   "outputs": [],
   "source": [
    "class AnalysisThreadManager:\n",
    "    def __init__(self, assistant_id):\n",
    "        self.client = OpenAI()\n",
    "        self.assistant_id = assistant_id\n",
    "        self.thread = None\n",
    "        \n",
    "    def start_session(self):\n",
    "        \"\"\"Start a new analysis session\"\"\"\n",
    "        self.thread = self.client.beta.threads.create()\n",
    "        return self.thread\n",
    "    \n",
    "    def add_file_for_analysis(self, file_path):\n",
    "        \"\"\"Upload and attach a file for analysis\"\"\"\n",
    "        file = self.client.files.create(\n",
    "            file=open(file_path, \"rb\"),\n",
    "            purpose=\"assistants\"\n",
    "        )\n",
    "        \n",
    "        message = self.client.beta.threads.messages.create(\n",
    "            thread_id=self.thread.id,\n",
    "            role=\"user\",\n",
    "            content=\"Please analyze this data file.\",\n",
    "            attachments=[{\n",
    "                \"file_id\": file.id,\n",
    "                \"tools\": [{\"type\": \"code_interpreter\"}]\n",
    "            }]\n",
    "        )\n",
    "        return file.id, message\n",
    "    \n",
    "    def ask_question(self, question):\n",
    "        \"\"\"Ask a question about the data\"\"\"\n",
    "        message = self.client.beta.threads.messages.create(\n",
    "            thread_id=self.thread.id,\n",
    "            role=\"user\",\n",
    "            content=question\n",
    "        )\n",
    "        return message\n",
    "    \n",
    "    def get_analysis(self, event_handler=None):\n",
    "        \"\"\"Run the analysis and get results\"\"\"\n",
    "        with self.client.beta.threads.runs.stream(\n",
    "            thread_id=self.thread.id,\n",
    "            assistant_id=self.assistant_id,\n",
    "            event_handler=event_handler\n",
    "        ) as stream:\n",
    "            stream.until_done()\n",
    "        \n",
    "        # Get the latest message with any generated files\n",
    "        messages = self.client.beta.threads.messages.list(\n",
    "            thread_id=self.thread.id,\n",
    "            order=\"desc\",\n",
    "            limit=1\n",
    "        )\n",
    "        return messages.data[0]\n",
    "    \n",
    "    def download_file(self, file_id, output_path):\n",
    "        \"\"\"Download a file generated by Code Interpreter\"\"\"\n",
    "        file_content = self.client.files.content(file_id)\n",
    "        with open(output_path, 'wb') as f:\n",
    "            f.write(file_content.read())"
   ]
  },
  {
   "cell_type": "markdown",
   "id": "dca6ff4b",
   "metadata": {},
   "source": [
    "## Example Analysis Session\n",
    "\n",
    "Let's put everything together with a sample analysis workflow:"
   ]
  },
  {
   "cell_type": "code",
   "execution_count": null,
   "id": "d5cf8a16",
   "metadata": {},
   "outputs": [],
   "source": [
    "# Initialize our analysis manager\n",
    "analysis_manager = AnalysisThreadManager(analysis_assistant.id)\n",
    "\n",
    "# Start a new session\n",
    "session = analysis_manager.start_session()\n",
    "\n",
    "# Example: Upload a data file for analysis\n",
    "# Assuming we have a sample_data.csv file\n",
    "file_id, _ = analysis_manager.add_file_for_analysis(\"sample_data.csv\")\n",
    "\n",
    "# Request initial analysis\n",
    "analysis_manager.ask_question(\"\"\"\n",
    "Please perform an initial analysis of this dataset:\n",
    "1. Check for missing values\n",
    "2. Show basic statistics\n",
    "3. Create a visualization of the main trends\n",
    "4. Identify any interesting patterns\n",
    "\"\"\")\n",
    "\n",
    "# Get the analysis results\n",
    "response = analysis_manager.get_analysis(AnalysisEventHandler())\n",
    "\n",
    "# If there are any generated files, download them\n",
    "for content in response.content:\n",
    "    if content.type == 'image_file':\n",
    "        analysis_manager.download_file(\n",
    "            content.image_file.file_id,\n",
    "            f\"analysis_plot_{content.image_file.file_id}.png\"\n",
    "        )"
   ]
  },
  {
   "cell_type": "markdown",
   "id": "08739f47",
   "metadata": {},
   "source": [
    "## Processing Code Interpreter Outputs\n",
    "\n",
    "Let's create a function to process and display Code Interpreter outputs:"
   ]
  },
  {
   "cell_type": "code",
   "execution_count": null,
   "id": "4c30ba57",
   "metadata": {},
   "outputs": [],
   "source": [
    "def process_code_outputs(message):\n",
    "    \"\"\"Process and display Code Interpreter outputs from a message\"\"\"\n",
    "    for content in message.content:\n",
    "        if content.type == 'text':\n",
    "            print(\"Analysis Results:\")\n",
    "            print(content.text.value)\n",
    "        elif content.type == 'image_file':\n",
    "            print(f\"\\nGenerated image file: {content.image_file.file_id}\")\n",
    "            # You can download and display the image here"
   ]
  },
  {
   "cell_type": "markdown",
   "id": "100cad61",
   "metadata": {},
   "source": [
    "## Advanced Analysis Examples\n",
    "\n",
    "Here are some example analysis tasks you can perform:"
   ]
  },
  {
   "cell_type": "code",
   "execution_count": null,
   "id": "9e4a6679",
   "metadata": {},
   "outputs": [],
   "source": [
    "# Example 1: Statistical Analysis\n",
    "analysis_manager.ask_question(\"\"\"\n",
    "Perform a statistical analysis of the numeric columns:\n",
    "1. Calculate correlations\n",
    "2. Test for normal distribution\n",
    "3. Identify potential outliers\n",
    "4. Create box plots for visualization\n",
    "\"\"\")\n",
    "\n",
    "# Example 2: Time Series Analysis\n",
    "analysis_manager.ask_question(\"\"\"\n",
    "Analyze the temporal patterns in the data:\n",
    "1. Plot trends over time\n",
    "2. Check for seasonality\n",
    "3. Calculate moving averages\n",
    "4. Identify any significant changes\n",
    "\"\"\")\n",
    "\n",
    "# Example 3: Predictive Analysis\n",
    "analysis_manager.ask_question(\"\"\"\n",
    "Build a simple predictive model:\n",
    "1. Prepare the data (split features/target)\n",
    "2. Create a basic regression model\n",
    "3. Evaluate the model performance\n",
    "4. Visualize the predictions vs actual values\n",
    "\"\"\")"
   ]
  },
  {
   "cell_type": "markdown",
   "id": "9b40cdb8",
   "metadata": {},
   "source": [
    "## Handling Generated Files\n",
    "\n",
    "Code Interpreter can generate various types of files. Here's how to handle them:"
   ]
  },
  {
   "cell_type": "code",
   "execution_count": null,
   "id": "81257d41",
   "metadata": {},
   "outputs": [],
   "source": [
    "def handle_generated_files(message):\n",
    "    \"\"\"Process files generated by Code Interpreter\"\"\"\n",
    "    generated_files = []\n",
    "    \n",
    "    for content in message.content:\n",
    "        if content.type == 'image_file':\n",
    "            generated_files.append({\n",
    "                'type': 'image',\n",
    "                'file_id': content.image_file.file_id\n",
    "            })\n",
    "        elif content.type == 'text':\n",
    "            # Check for file path annotations\n",
    "            for annotation in content.text.annotations:\n",
    "                if hasattr(annotation, 'file_path'):\n",
    "                    generated_files.append({\n",
    "                        'type': 'data',\n",
    "                        'file_id': annotation.file_path.file_id\n",
    "                    })\n",
    "    \n",
    "    return generated_files"
   ]
  },
  {
   "cell_type": "markdown",
   "id": "c5a78357",
   "metadata": {},
   "source": [
    "## Best Practices and Tips\n",
    "\n",
    "1. **File Handling**:\n",
    "   - Keep files under 512 MB\n",
    "   - Use supported file formats (CSV, JSON, XLSX, etc.)\n",
    "   - Clean up downloaded files when no longer needed\n",
    "\n",
    "2. **Code Execution**:\n",
    "   - Monitor execution outputs for errors\n",
    "   - Handle generated files appropriately\n",
    "   - Keep track of file IDs for later reference\n",
    "\n",
    "3. **Analysis Flow**:\n",
    "   - Start with exploratory analysis\n",
    "   - Break down complex analyses into steps\n",
    "   - Save important visualizations and results\n",
    "\n",
    "## Cleanup Function"
   ]
  },
  {
   "cell_type": "code",
   "execution_count": null,
   "id": "714db110",
   "metadata": {},
   "outputs": [],
   "source": [
    "def cleanup_resources(file_ids=None):\n",
    "    \"\"\"Clean up uploaded and generated files\"\"\"\n",
    "    if file_ids:\n",
    "        for file_id in file_ids:\n",
    "            try:\n",
    "                client.files.delete(file_id)\n",
    "                print(f\"Deleted file: {file_id}\")\n",
    "            except Exception as e:\n",
    "                print(f\"Error deleting file: {e}\")"
   ]
  },
  {
   "cell_type": "markdown",
   "id": "6e31b566",
   "metadata": {},
   "source": [
    "## Conclusion\n",
    "\n",
    "We've built a comprehensive data analysis system using OpenAI's Assistants API with Code Interpreter. The system can:\n",
    "- Handle data file uploads and downloads\n",
    "- Perform complex analyses\n",
    "- Generate visualizations\n",
    "- Create detailed reports\n",
    "\n",
    "Try experimenting with different types of analyses and data files to explore the full capabilities of Code Interpreter. Remember to handle your files and API resources responsibly in production environments."
   ]
  }
 ],
 "metadata": {
  "language_info": {
   "name": "python"
  }
 },
 "nbformat": 4,
 "nbformat_minor": 5
}
