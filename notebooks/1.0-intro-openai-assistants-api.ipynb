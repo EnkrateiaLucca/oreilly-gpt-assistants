{
 "cells": [
  {
   "cell_type": "markdown",
   "id": "aa885468",
   "metadata": {},
   "source": [
    "# Introduction to GPT Assistants API: Building a Research Assistant\n",
    "\n",
    "## Overview\n",
    "In this notebook, we'll explore the OpenAI Assistants API by building a practical research assistant that can help analyze academic papers and generate research summaries. We'll cover the fundamental concepts of the API and walk through a complete implementation.\n",
    "\n",
    "The Assistants API allows us to create AI assistants with specific personalities, capabilities, and access to various tools. In this lesson, we'll learn about:\n",
    "- Creating an Assistant with custom instructions\n",
    "- Managing conversation Threads\n",
    "- Sending and receiving Messages\n",
    "- Executing Runs\n",
    "- Working with the Code Interpreter tool\n",
    "\n",
    "## Setup and Dependencies"
   ]
  },
  {
   "cell_type": "code",
   "execution_count": 1,
   "id": "fea78a39",
   "metadata": {},
   "outputs": [],
   "source": [
    "import os\n",
    "import getpass\n",
    "\n",
    "def _set_env(var: str):\n",
    "    if not os.environ.get(var):\n",
    "        os.environ[var] = getpass.getpass(f\"var: \")\n",
    "\n",
    "_set_env(\"OPENAI_API_KEY\")"
   ]
  },
  {
   "cell_type": "code",
   "execution_count": 2,
   "id": "8773e4d3",
   "metadata": {},
   "outputs": [],
   "source": [
    "from openai import OpenAI\n",
    "import time\n",
    "\n",
    "# Initialize the OpenAI client\n",
    "client = OpenAI()"
   ]
  },
  {
   "cell_type": "markdown",
   "id": "32c6d2f7",
   "metadata": {},
   "source": [
    "## What is the Assistants API?\n",
    "\n",
    "The Assistants API is a powerful toolkit for building AI-driven applications. It allows developers to create assistants capable of responding to user queries using **models**, **tools**, and **files**. These assistants are designed to solve problems, perform computations, and provide helpful, context-aware interactions.\n",
    "\n",
    "### Key Features:\n",
    "1. **Customizable Behavior**:\n",
    "   - Define how the assistant behaves using instructions.\n",
    "   - Tailor the assistant's personality and capabilities.\n",
    "\n",
    "2. **Tool Integration**:\n",
    "   - Leverage built-in tools such as:\n",
    "     - **Code Interpreter**: Execute and debug Python code.\n",
    "     - **File Search**: Search through uploaded files.\n",
    "     - **Function Calling**: Integrate external tools for custom tasks.\n",
    "\n",
    "3. **Persistent Conversations**:\n",
    "   - Use **Threads** to store conversations and manage context.\n",
    "   - Threads automatically truncate long histories to fit model limits.\n",
    "\n",
    "4. **Object Architecture**:\n",
    "   - **Assistant**: The core AI entity.\n",
    "   - **Thread**: A persistent conversation between a user and the assistant.\n",
    "   - **Message**: A unit of communication (text, files, etc.) in a thread.\n",
    "   - **Run**: A session where the assistant processes input and generates output."
   ]
  },
  {
   "cell_type": "markdown",
   "id": "2e3d9b97",
   "metadata": {},
   "source": [
    "## Understanding the Core Concepts\n",
    "\n",
    "The Assistants API is built around several key objects:\n",
    "1. **Assistant**: The AI entity with specific capabilities and instructions\n",
    "2. **Thread**: A conversation session that maintains message history\n",
    "3. **Message**: Individual communications between the user and assistant\n",
    "4. **Run**: An execution of the assistant on a thread\n",
    "5. **Run Step**: Detailed steps taken by the assistant during a run\n",
    "\n",
    "## Creating Our Research Assistant\n",
    "\n",
    "Let's create an assistant specialized in research paper analysis:"
   ]
  },
  {
   "cell_type": "code",
   "execution_count": 3,
   "id": "eb8cb321",
   "metadata": {},
   "outputs": [
    {
     "name": "stdout",
     "output_type": "stream",
     "text": [
      "Assistant ID: asst_R2mnM0fsD4DFpdGfNxE9KFgJ\n"
     ]
    }
   ],
   "source": [
    "assistant = client.beta.assistants.create(\n",
    "    name=\"Research Analyst\",\n",
    "    instructions=\"\"\"You are a research assistant specialized in analyzing academic papers and research data.\n",
    "    Your tasks include:\n",
    "    - Summarizing research findings\n",
    "    - Analyzing statistical data\n",
    "    - Creating visualizations of research results\n",
    "    - Providing critical analysis of methodologies\n",
    "    Always maintain academic rigor and cite specific sections when referring to source materials.\"\"\",\n",
    "    tools=[{\"type\": \"code_interpreter\"}],\n",
    "    model=\"gpt-4o\"\n",
    ")\n",
    "\n",
    "print(f\"Assistant ID: {assistant.id}\")"
   ]
  },
  {
   "cell_type": "markdown",
   "id": "6fe60eec",
   "metadata": {},
   "source": [
    "## Starting a Research Session\n",
    "\n",
    "When a user wants to begin analyzing a paper, we create a new Thread:"
   ]
  },
  {
   "cell_type": "code",
   "execution_count": 4,
   "id": "4523a1b4",
   "metadata": {},
   "outputs": [
    {
     "name": "stdout",
     "output_type": "stream",
     "text": [
      "Thread ID: thread_7fKBVFYI36vI167Fldwjwwhm\n"
     ]
    }
   ],
   "source": [
    "thread = client.beta.threads.create()\n",
    "print(f\"Thread ID: {thread.id}\")"
   ]
  },
  {
   "cell_type": "markdown",
   "id": "f1ff1b93",
   "metadata": {},
   "source": [
    "## Adding Research Questions\n",
    "\n",
    "Let's simulate a user asking questions about a research dataset:"
   ]
  },
  {
   "cell_type": "code",
   "execution_count": null,
   "id": "a18ec840",
   "metadata": {},
   "outputs": [],
   "source": [
    "message = client.beta.threads.messages.create(\n",
    "    thread_id=thread.id,\n",
    "    role=\"user\",\n",
    "    content=\"\"\"I have a dataset of patient recovery times after two different treatments.\n",
    "    Can you help me analyze the statistical significance of the results?\n",
    "    \n",
    "    Treatment A: [45, 42, 39, 47, 41, 43, 40, 44, 38, 46]\n",
    "    Treatment B: [52, 49, 51, 47, 50, 53, 48, 51, 49, 50]\"\"\"\n",
    ")"
   ]
  },
  {
   "cell_type": "markdown",
   "id": "ffdad5ad",
   "metadata": {},
   "source": [
    "## Creating a Run with Response Streaming\n",
    "\n",
    "We'll implement a response handler to process the assistant's analysis in real-time:"
   ]
  },
  {
   "cell_type": "code",
   "execution_count": 6,
   "id": "6e55105e",
   "metadata": {},
   "outputs": [
    {
     "name": "stdout",
     "output_type": "stream",
     "text": [
      "\n",
      "Assistant > To analyze the statistical significance of recovery times after two different treatments, we can conduct a two-sample t-test. This test will help determine if there is a significant difference in the means of the two treatments.\n",
      "\n",
      "### Steps for the Two-Sample t-test:\n",
      "\n",
      "1. **Assumptions Check:**\n",
      "   - **Normality:** Each sample should be approximately normally distributed. We can check this by looking at histograms or conducting a normality test.\n",
      "   - **Homogeneity of Variances:** The variances of the two groups should be equal. We can test this assumption using Levene's test.\n",
      "\n",
      "2. **Hypotheses:**\n",
      "   - Null Hypothesis (\\(H_0\\)): There is no significant difference in mean recovery times between Treatment A and Treatment B (\\(\\mu_A = \\mu_B\\)).\n",
      "   - Alternative Hypothesis (\\(H_a\\)): There is a significant difference in mean recovery times (\\(\\mu_A \\neq \\mu_B\\)).\n",
      "\n",
      "3. **Conduct the Two-Sample t-test:**\n",
      "   - Calculate the t-statistic and the associated p-value.\n",
      "\n",
      "Let's perform these steps. We'll start by visualizing the data with histograms and box plots to assess normality, and then test for equal variances.\n",
      "Running analysis: code_interpreter\n",
      "\n",
      "import matplotlib.pyplot as plt\n",
      "import seaborn as sns\n",
      "import pandas as pd\n",
      "import scipy.stats as stats\n",
      "\n",
      "# Data\n",
      "treatment_a = [45, 42, 39, 47, 41, 43, 40, 44, 38, 46]\n",
      "treatment_b = [52, 49, 51, 47, 50, 53, 48, 51, 49, 50]\n",
      "\n",
      "# Create a DataFrame for plotting\n",
      "data = pd.DataFrame({\n",
      "    'Recovery Time': treatment_a + treatment_b,\n",
      "    'Treatment': ['A'] * len(treatment_a) + ['B'] * len(treatment_b)\n",
      "})\n",
      "\n",
      "# Plot histograms\n",
      "plt.figure(figsize=(12, 5))\n",
      "\n",
      "plt.subplot(1, 2, 1)\n",
      "sns.histplot(treatment_a, bins=5, kde=True, color='blue', alpha=0.6, label='Treatment A')\n",
      "plt.axvline(x=pd.Series(treatment_a).mean(), color='blue', linestyle='--')\n",
      "plt.title('Histogram of Treatment A')\n",
      "plt.xlabel('Days')\n",
      "plt.ylabel('Frequency')\n",
      "plt.legend()\n",
      "\n",
      "plt.subplot(1, 2, 2)\n",
      "sns.histplot(treatment_b, bins=5, kde=True, color='green', alpha=0.6, label='Treatment B')\n",
      "plt.axvline(x=pd.Series(treatment_b).mean(), color='green', linestyle='--')\n",
      "plt.title('Histogram of Treatment B')\n",
      "plt.xlabel('Days')\n",
      "plt.ylabel('Frequency')\n",
      "plt.legend()\n",
      "\n",
      "plt.tight_layout()\n",
      "plt.show()\n",
      "\n",
      "# Box plots for comparing distributions\n",
      "plt.figure(figsize=(8, 5))\n",
      "sns.boxplot(data=data, x='Treatment', y='Recovery Time')\n",
      "plt.title('Box Plot of Recovery Times by Treatment')\n",
      "plt.show()\n",
      "\n",
      "# Check variances with Levene's test\n",
      "levene_test = stats.levene(treatment_a, treatment_b)\n",
      "levene_test.pvalue\n",
      "Results:\n",
      "\n",
      "Results:\n",
      "\n",
      "Assistant > The visualizations provide the following insights:\n",
      "\n",
      "1. **Histograms and KDE Plots:**\n",
      "   - Both histograms exhibit a roughly normal distribution, although Treatment B shows a slight skew.\n",
      "   - The mean recovery times (shown as dashed lines) appear different between the two treatments.\n",
      "\n",
      "2. **Box Plot:**\n",
      "   - The box plot displays a clear separation between Treatment A and Treatment B, indicating different median recovery times.\n",
      "\n",
      "3. **Levene's Test for Homogeneity of Variances:**\n",
      "   - With a p-value of approximately 0.075, Levene's test suggests that we do not have enough evidence to reject the null hypothesis of equal variances at the 0.05 significance level.\n",
      "\n",
      "Since the assumptions for the two-sample t-test (normality and homogeneity of variances) seem reasonably met, let's proceed with the two-sample t-test to analyze the statistical significance of the difference in recovery times.# Perform two-sample t-test (independent samples)\n",
      "t_test_result = stats.ttest_ind(treatment_a, treatment_b, equal_var=True)\n",
      "t_test_result.pvalue\n",
      "Assistant > The two-sample t-test yields a p-value of approximately \\(2.73 \\times 10^{-6}\\). This is far below the conventional alpha level of 0.05, indicating a statistically significant difference in the mean recovery times between Treatment A and Treatment B.\n",
      "\n",
      "### Conclusion:\n",
      "- **Reject the Null Hypothesis (\\(H_0\\))**: There is strong evidence to suggest that the mean recovery times for the two treatments are significantly different.\n",
      "- Treatment A appears to be associated with faster recovery times compared to Treatment B.\n",
      "\n",
      "If there are further inquiries or if you need assistance with another aspect of this analysis, please feel free to ask!"
     ]
    }
   ],
   "source": [
    "try:\n",
    "    from typing_extensions import override\n",
    "except ImportError:\n",
    "    # Fallback if typing_extensions is not available\n",
    "    def override(func):\n",
    "        return func\n",
    "\n",
    "from openai import AssistantEventHandler\n",
    "\n",
    "class ResearchEventHandler(AssistantEventHandler):\n",
    "    @override\n",
    "    def on_text_created(self, text) -> None:\n",
    "        print(f\"\\nAssistant > \", end=\"\", flush=True)\n",
    "    \n",
    "    @override\n",
    "    def on_text_delta(self, delta, snapshot):\n",
    "        print(delta.value, end=\"\", flush=True)\n",
    "    \n",
    "    def on_tool_call_created(self, tool_call):\n",
    "        print(f\"\\nRunning analysis: {tool_call.type}\\n\", flush=True)\n",
    "    \n",
    "    def on_tool_call_delta(self, delta, snapshot):\n",
    "        if delta.type == 'code_interpreter':\n",
    "            if delta.code_interpreter.input:\n",
    "                print(delta.code_interpreter.input, end=\"\", flush=True)\n",
    "            if delta.code_interpreter.outputs:\n",
    "                print(f\"\\nResults:\", flush=True)\n",
    "                for output in delta.code_interpreter.outputs:\n",
    "                    if output.type == \"logs\":\n",
    "                        print(f\"\\n{output.logs}\", flush=True)\n",
    "\n",
    "# Execute the analysis\n",
    "with client.beta.threads.runs.stream(\n",
    "    thread_id=thread.id,\n",
    "    assistant_id=assistant.id,\n",
    "    event_handler=ResearchEventHandler(),\n",
    ") as stream:\n",
    "    stream.until_done()"
   ]
  },
  {
   "cell_type": "code",
   "execution_count": 7,
   "id": "86732200",
   "metadata": {},
   "outputs": [
    {
     "data": {
      "text/plain": [
       "Run(id='run_Rz5mNLO6JfefY7a0jvQQFZjU', assistant_id='asst_R2mnM0fsD4DFpdGfNxE9KFgJ', cancelled_at=None, completed_at=1752506453, created_at=1752506443, expires_at=None, failed_at=None, incomplete_details=None, instructions='You are a research assistant specialized in analyzing academic papers and research data.\\n    Your tasks include:\\n    - Summarizing research findings\\n    - Analyzing statistical data\\n    - Creating visualizations of research results\\n    - Providing critical analysis of methodologies\\n    Always maintain academic rigor and cite specific sections when referring to source materials.', last_error=None, max_completion_tokens=None, max_prompt_tokens=None, metadata={}, model='gpt-4o', object='thread.run', parallel_tool_calls=True, required_action=None, response_format='auto', started_at=1752506448, status='completed', thread_id='thread_7fKBVFYI36vI167Fldwjwwhm', tool_choice='auto', tools=[CodeInterpreterTool(type='code_interpreter')], truncation_strategy=TruncationStrategy(type='auto', last_messages=None), usage=Usage(completion_tokens=37, prompt_tokens=3904, total_tokens=3941, prompt_token_details={'cached_tokens': 0}, completion_tokens_details={'reasoning_tokens': 0}), temperature=1.0, top_p=1.0, tool_resources={}, reasoning_effort=None)"
      ]
     },
     "execution_count": 7,
     "metadata": {},
     "output_type": "execute_result"
    }
   ],
   "source": [
    "run = client.beta.threads.runs.create_and_poll(\n",
    "  thread_id=thread.id,\n",
    "  assistant_id=assistant.id,\n",
    ")\n",
    "\n",
    "run"
   ]
  },
  {
   "cell_type": "markdown",
   "id": "da8be1ef",
   "metadata": {},
   "source": [
    "## Retrieving Conversation History\n",
    "\n",
    "We can review the entire conversation history from the Thread:"
   ]
  },
  {
   "cell_type": "code",
   "execution_count": 9,
   "id": "df8127e3",
   "metadata": {},
   "outputs": [
    {
     "name": "stdout",
     "output_type": "stream",
     "text": [
      "assistant: Is there anything specific you would like to explore further with this data, such as additional visualizations, further statistical analyses, or a discussion around the possible implications of these findings?\n",
      "\n",
      "assistant: The two-sample t-test yields a p-value of approximately \\(2.73 \\times 10^{-6}\\). This is far below the conventional alpha level of 0.05, indicating a statistically significant difference in the mean recovery times between Treatment A and Treatment B.\n",
      "\n",
      "### Conclusion:\n",
      "- **Reject the Null Hypothesis (\\(H_0\\))**: There is strong evidence to suggest that the mean recovery times for the two treatments are significantly different.\n",
      "- Treatment A appears to be associated with faster recovery times compared to Treatment B.\n",
      "\n",
      "If there are further inquiries or if you need assistance with another aspect of this analysis, please feel free to ask!\n",
      "\n",
      "ImageFileContentBlock(image_file=ImageFile(file_id='file-QmCthetRxPxnmbgbHQbkDN', detail=None), type='image_file')\n",
      "assistant: To analyze the statistical significance of recovery times after two different treatments, we can conduct a two-sample t-test. This test will help determine if there is a significant difference in the means of the two treatments.\n",
      "\n",
      "### Steps for the Two-Sample t-test:\n",
      "\n",
      "1. **Assumptions Check:**\n",
      "   - **Normality:** Each sample should be approximately normally distributed. We can check this by looking at histograms or conducting a normality test.\n",
      "   - **Homogeneity of Variances:** The variances of the two groups should be equal. We can test this assumption using Levene's test.\n",
      "\n",
      "2. **Hypotheses:**\n",
      "   - Null Hypothesis (\\(H_0\\)): There is no significant difference in mean recovery times between Treatment A and Treatment B (\\(\\mu_A = \\mu_B\\)).\n",
      "   - Alternative Hypothesis (\\(H_a\\)): There is a significant difference in mean recovery times (\\(\\mu_A \\neq \\mu_B\\)).\n",
      "\n",
      "3. **Conduct the Two-Sample t-test:**\n",
      "   - Calculate the t-statistic and the associated p-value.\n",
      "\n",
      "Let's perform these steps. We'll start by visualizing the data with histograms and box plots to assess normality, and then test for equal variances.\n",
      "\n",
      "user: I have a dataset of patient recovery times after two different treatments.\n",
      "    Can you help me analyze the statistical significance of the results?\n",
      "    \n",
      "    Treatment A: [45, 42, 39, 47, 41, 43, 40, 44, 38, 46]\n",
      "    Treatment B: [52, 49, 51, 47, 50, 53, 48, 51, 49, 50]\n",
      "\n"
     ]
    }
   ],
   "source": [
    "messages = client.beta.threads.messages.list(thread_id=thread.id)\n",
    "for msg in messages:\n",
    "    try:\n",
    "        print(f\"{msg.role}: {msg.content[0].text.value}\\n\")\n",
    "    except:\n",
    "        print(msg.content[0])"
   ]
  },
  {
   "cell_type": "markdown",
   "id": "25239107",
   "metadata": {},
   "source": [
    "## Practice Exercise\n",
    "\n",
    "Now it's your turn! Try creating an assistant for a different use case. Here's a template to get started:\n",
    "\n",
    "API key quickstart:\n",
    "1. https://platform.openai.com/docs/quickstart?api-mode=responses\n",
    "\n",
    "OpenAI Assistants API quickstart:\n",
    "1. https://platform.openai.com/docs/assistants/quickstart"
   ]
  },
  {
   "cell_type": "code",
   "execution_count": null,
   "id": "0ab1c01e",
   "metadata": {},
   "outputs": [],
   "source": [
    "# Create your custom assistant\n",
    "custom_assistant = client.beta.assistants.create(\n",
    "    name=\"[Your Assistant Name]\",\n",
    "    instructions=\"[Your detailed instructions]\",\n",
    "    tools=[{\"type\": \"code_interpreter\"}],  # Add other tools as needed\n",
    "    model=\"gpt-4o\"\n",
    ")\n",
    "\n",
    "# Create a new thread\n",
    "custom_thread = client.beta.threads.create()\n",
    "\n",
    "# Add your first message\n",
    "custom_message = client.beta.threads.messages.create(\n",
    "    thread_id=custom_thread.id,\n",
    "    role=\"user\",\n",
    "    content=\"[Your first question or request]\"\n",
    ")\n",
    "\n",
    "# Run the assistant with the event handler\n",
    "with client.beta.threads.runs.stream(\n",
    "    thread_id=custom_thread.id,\n",
    "    assistant_id=custom_assistant.id,\n",
    "    event_handler=ResearchEventHandler(),\n",
    ") as stream:\n",
    "    stream.until_done()"
   ]
  },
  {
   "cell_type": "markdown",
   "id": "72c01e23",
   "metadata": {},
   "source": [
    "## Key Takeaways\n",
    "\n",
    "1. The Assistants API provides a structured way to create specialized AI assistants with specific capabilities and personalities.\n",
    "2. Threads maintain conversation context and history, making it easy to build complex interactions.\n",
    "3. The streaming capability allows for real-time response processing and interactive tools usage.\n",
    "4. Tools like Code Interpreter enable assistants to perform complex calculations and generate visualizations.\n",
    "5. The API's architecture makes it simple to build sophisticated AI applications while maintaining clean conversation management.\n",
    "\n",
    "## Next Steps\n",
    "\n",
    "- Experiment with different tool combinations\n",
    "- Try implementing file handling capabilities\n",
    "- Explore function calling for custom tool integration\n",
    "- Build more complex conversation flows using thread management\n",
    "\n",
    "Remember to handle your API keys securely and implement proper error handling in production environments!"
   ]
  }
 ],
 "metadata": {
  "kernelspec": {
   "display_name": "gpt-assistants",
   "language": "python",
   "name": "gpt-assistants"
  },
  "language_info": {
   "codemirror_mode": {
    "name": "ipython",
    "version": 3
   },
   "file_extension": ".py",
   "mimetype": "text/x-python",
   "name": "python",
   "nbconvert_exporter": "python",
   "pygments_lexer": "ipython3",
   "version": "3.11.11"
  }
 },
 "nbformat": 4,
 "nbformat_minor": 5
}
